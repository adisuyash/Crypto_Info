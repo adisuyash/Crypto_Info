{
  "cells": [
    {
      "cell_type": "markdown",
      "metadata": {
        "id": "view-in-github",
        "colab_type": "text"
      },
      "source": [
        "<a href=\"https://colab.research.google.com/github/duc-beluga/CryptoInfo/blob/main/Untitled3.ipynb\" target=\"_parent\"><img src=\"https://colab.research.google.com/assets/colab-badge.svg\" alt=\"Open In Colab\"/></a>"
      ]
    },
    {
      "cell_type": "code",
      "source": [
        "!pip install pandas\n",
        "import pandas as pd\n"
      ],
      "metadata": {
        "colab": {
          "base_uri": "https://localhost:8080/"
        },
        "id": "mkF7aGsbwnYS",
        "outputId": "be89b55c-6f4c-4ea6-847e-52ea0b0bea9e"
      },
      "execution_count": 1,
      "outputs": [
        {
          "output_type": "stream",
          "name": "stdout",
          "text": [
            "Requirement already satisfied: pandas in /usr/local/lib/python3.10/dist-packages (1.5.3)\n",
            "Requirement already satisfied: python-dateutil>=2.8.1 in /usr/local/lib/python3.10/dist-packages (from pandas) (2.8.2)\n",
            "Requirement already satisfied: pytz>=2020.1 in /usr/local/lib/python3.10/dist-packages (from pandas) (2023.3)\n",
            "Requirement already satisfied: numpy>=1.21.0 in /usr/local/lib/python3.10/dist-packages (from pandas) (1.23.5)\n",
            "Requirement already satisfied: six>=1.5 in /usr/local/lib/python3.10/dist-packages (from python-dateutil>=2.8.1->pandas) (1.16.0)\n"
          ]
        }
      ]
    },
    {
      "cell_type": "code",
      "source": [
        "df=pd.read_csv('/content/drive/MyDrive/crypto-markets.csv')"
      ],
      "metadata": {
        "id": "lh9A0eA2zN9o"
      },
      "execution_count": 2,
      "outputs": []
    },
    {
      "cell_type": "code",
      "source": [
        "df.describe\n"
      ],
      "metadata": {
        "colab": {
          "base_uri": "https://localhost:8080/"
        },
        "id": "yzMaDfikznwo",
        "outputId": "00a64355-9b31-4916-ce5f-60d0f7a171db"
      },
      "execution_count": 3,
      "outputs": [
        {
          "output_type": "execute_result",
          "data": {
            "text/plain": [
              "<bound method NDFrame.describe of              slug symbol       name        date  ranknow      open      high  \\\n",
              "0         bitcoin    BTC    Bitcoin  2013-04-28        1    135.30    135.98   \n",
              "1         bitcoin    BTC    Bitcoin  2013-04-29        1    134.44    147.49   \n",
              "2         bitcoin    BTC    Bitcoin  2013-04-30        1    144.00    146.93   \n",
              "3         bitcoin    BTC    Bitcoin  2013-05-01        1    139.00    139.89   \n",
              "4         bitcoin    BTC    Bitcoin  2013-05-02        1    116.38    125.60   \n",
              "...           ...    ...        ...         ...      ...       ...       ...   \n",
              "942292  project-x  NANOX  Project-X  2018-11-26     1727  22424.60  23049.30   \n",
              "942293  project-x  NANOX  Project-X  2018-11-27     1727  20711.90  23742.10   \n",
              "942294  project-x  NANOX  Project-X  2018-11-28     1727  23320.90  25235.10   \n",
              "942295  project-x  NANOX  Project-X  2018-11-29     1727  24543.53  24582.47   \n",
              "942296  project-x  NANOX  Project-X  2018-11-30     1727  22872.09  23086.98   \n",
              "\n",
              "             low     close  volume        market  close_ratio   spread  \n",
              "0         132.10    134.21     0.0  1.488567e+09       0.5438     3.88  \n",
              "1         134.00    144.54     0.0  1.603769e+09       0.7813    13.49  \n",
              "2         134.05    139.00     0.0  1.542813e+09       0.3843    12.88  \n",
              "3         107.72    116.99     0.0  1.298955e+09       0.2882    32.17  \n",
              "4          92.28    105.21     0.0  1.168517e+09       0.3881    33.32  \n",
              "...          ...       ...     ...           ...          ...      ...  \n",
              "942292  17607.50  20724.80   143.0  1.622000e+03       0.5728  5441.80  \n",
              "942293  19292.90  23298.70   637.0  1.823000e+03       0.9003  4449.20  \n",
              "942294  19888.10  24442.70    49.0  1.913000e+03       0.8518  5347.00  \n",
              "942295  21457.95  22839.44   153.0  1.788000e+03       0.4421  3124.52  \n",
              "942296  19040.91  21136.72   125.0  1.654000e+03       0.5180  4046.07  \n",
              "\n",
              "[942297 rows x 13 columns]>"
            ]
          },
          "metadata": {},
          "execution_count": 3
        }
      ]
    },
    {
      "cell_type": "code",
      "source": [
        "print(df)"
      ],
      "metadata": {
        "colab": {
          "base_uri": "https://localhost:8080/"
        },
        "id": "I53Vs6C4zqWG",
        "outputId": "086c5694-7e5e-4a27-d5cd-4058fa28a083"
      },
      "execution_count": 4,
      "outputs": [
        {
          "output_type": "stream",
          "name": "stdout",
          "text": [
            "             slug symbol       name        date  ranknow      open      high  \\\n",
            "0         bitcoin    BTC    Bitcoin  2013-04-28        1    135.30    135.98   \n",
            "1         bitcoin    BTC    Bitcoin  2013-04-29        1    134.44    147.49   \n",
            "2         bitcoin    BTC    Bitcoin  2013-04-30        1    144.00    146.93   \n",
            "3         bitcoin    BTC    Bitcoin  2013-05-01        1    139.00    139.89   \n",
            "4         bitcoin    BTC    Bitcoin  2013-05-02        1    116.38    125.60   \n",
            "...           ...    ...        ...         ...      ...       ...       ...   \n",
            "942292  project-x  NANOX  Project-X  2018-11-26     1727  22424.60  23049.30   \n",
            "942293  project-x  NANOX  Project-X  2018-11-27     1727  20711.90  23742.10   \n",
            "942294  project-x  NANOX  Project-X  2018-11-28     1727  23320.90  25235.10   \n",
            "942295  project-x  NANOX  Project-X  2018-11-29     1727  24543.53  24582.47   \n",
            "942296  project-x  NANOX  Project-X  2018-11-30     1727  22872.09  23086.98   \n",
            "\n",
            "             low     close  volume        market  close_ratio   spread  \n",
            "0         132.10    134.21     0.0  1.488567e+09       0.5438     3.88  \n",
            "1         134.00    144.54     0.0  1.603769e+09       0.7813    13.49  \n",
            "2         134.05    139.00     0.0  1.542813e+09       0.3843    12.88  \n",
            "3         107.72    116.99     0.0  1.298955e+09       0.2882    32.17  \n",
            "4          92.28    105.21     0.0  1.168517e+09       0.3881    33.32  \n",
            "...          ...       ...     ...           ...          ...      ...  \n",
            "942292  17607.50  20724.80   143.0  1.622000e+03       0.5728  5441.80  \n",
            "942293  19292.90  23298.70   637.0  1.823000e+03       0.9003  4449.20  \n",
            "942294  19888.10  24442.70    49.0  1.913000e+03       0.8518  5347.00  \n",
            "942295  21457.95  22839.44   153.0  1.788000e+03       0.4421  3124.52  \n",
            "942296  19040.91  21136.72   125.0  1.654000e+03       0.5180  4046.07  \n",
            "\n",
            "[942297 rows x 13 columns]\n"
          ]
        }
      ]
    },
    {
      "cell_type": "code",
      "source": [
        "df.head"
      ],
      "metadata": {
        "colab": {
          "base_uri": "https://localhost:8080/"
        },
        "id": "-hKEBYBozvjE",
        "outputId": "2a585852-6f90-469f-8684-42e0cf53d288"
      },
      "execution_count": 5,
      "outputs": [
        {
          "output_type": "execute_result",
          "data": {
            "text/plain": [
              "<bound method NDFrame.head of              slug symbol       name        date  ranknow      open      high  \\\n",
              "0         bitcoin    BTC    Bitcoin  2013-04-28        1    135.30    135.98   \n",
              "1         bitcoin    BTC    Bitcoin  2013-04-29        1    134.44    147.49   \n",
              "2         bitcoin    BTC    Bitcoin  2013-04-30        1    144.00    146.93   \n",
              "3         bitcoin    BTC    Bitcoin  2013-05-01        1    139.00    139.89   \n",
              "4         bitcoin    BTC    Bitcoin  2013-05-02        1    116.38    125.60   \n",
              "...           ...    ...        ...         ...      ...       ...       ...   \n",
              "942292  project-x  NANOX  Project-X  2018-11-26     1727  22424.60  23049.30   \n",
              "942293  project-x  NANOX  Project-X  2018-11-27     1727  20711.90  23742.10   \n",
              "942294  project-x  NANOX  Project-X  2018-11-28     1727  23320.90  25235.10   \n",
              "942295  project-x  NANOX  Project-X  2018-11-29     1727  24543.53  24582.47   \n",
              "942296  project-x  NANOX  Project-X  2018-11-30     1727  22872.09  23086.98   \n",
              "\n",
              "             low     close  volume        market  close_ratio   spread  \n",
              "0         132.10    134.21     0.0  1.488567e+09       0.5438     3.88  \n",
              "1         134.00    144.54     0.0  1.603769e+09       0.7813    13.49  \n",
              "2         134.05    139.00     0.0  1.542813e+09       0.3843    12.88  \n",
              "3         107.72    116.99     0.0  1.298955e+09       0.2882    32.17  \n",
              "4          92.28    105.21     0.0  1.168517e+09       0.3881    33.32  \n",
              "...          ...       ...     ...           ...          ...      ...  \n",
              "942292  17607.50  20724.80   143.0  1.622000e+03       0.5728  5441.80  \n",
              "942293  19292.90  23298.70   637.0  1.823000e+03       0.9003  4449.20  \n",
              "942294  19888.10  24442.70    49.0  1.913000e+03       0.8518  5347.00  \n",
              "942295  21457.95  22839.44   153.0  1.788000e+03       0.4421  3124.52  \n",
              "942296  19040.91  21136.72   125.0  1.654000e+03       0.5180  4046.07  \n",
              "\n",
              "[942297 rows x 13 columns]>"
            ]
          },
          "metadata": {},
          "execution_count": 5
        }
      ]
    },
    {
      "cell_type": "code",
      "source": [
        "df.columns"
      ],
      "metadata": {
        "colab": {
          "base_uri": "https://localhost:8080/"
        },
        "id": "FsORRFx3z3FN",
        "outputId": "c17563b7-5abb-4736-8232-ab37ba6c90fa"
      },
      "execution_count": 6,
      "outputs": [
        {
          "output_type": "execute_result",
          "data": {
            "text/plain": [
              "Index(['slug', 'symbol', 'name', 'date', 'ranknow', 'open', 'high', 'low',\n",
              "       'close', 'volume', 'market', 'close_ratio', 'spread'],\n",
              "      dtype='object')"
            ]
          },
          "metadata": {},
          "execution_count": 6
        }
      ]
    },
    {
      "cell_type": "code",
      "source": [
        "!pip install scikit_learn"
      ],
      "metadata": {
        "colab": {
          "base_uri": "https://localhost:8080/"
        },
        "id": "cxvMrKfY0dLb",
        "outputId": "099c6a8a-311b-453e-d8f7-adbb87725789"
      },
      "execution_count": 7,
      "outputs": [
        {
          "output_type": "stream",
          "name": "stdout",
          "text": [
            "Requirement already satisfied: scikit_learn in /usr/local/lib/python3.10/dist-packages (1.2.2)\n",
            "Requirement already satisfied: numpy>=1.17.3 in /usr/local/lib/python3.10/dist-packages (from scikit_learn) (1.23.5)\n",
            "Requirement already satisfied: scipy>=1.3.2 in /usr/local/lib/python3.10/dist-packages (from scikit_learn) (1.10.1)\n",
            "Requirement already satisfied: joblib>=1.1.1 in /usr/local/lib/python3.10/dist-packages (from scikit_learn) (1.3.2)\n",
            "Requirement already satisfied: threadpoolctl>=2.0.0 in /usr/local/lib/python3.10/dist-packages (from scikit_learn) (3.2.0)\n"
          ]
        }
      ]
    },
    {
      "cell_type": "code",
      "source": [
        "from sklearn.model_selection import train_test_split\n",
        "from sklearn.linear_model import LinearRegression\n",
        "from sklearn.metrics import mean_squared_error\n"
      ],
      "metadata": {
        "id": "XW3iVcNK07Rp"
      },
      "execution_count": 9,
      "outputs": []
    },
    {
      "cell_type": "code",
      "source": [
        "# Define features and target variable\n",
        "features = ['open', 'high', 'low', 'volume', 'market', 'close_ratio', 'spread']\n",
        "target = 'close'\n",
        "\n",
        "X = df[features]\n",
        "y = df[target]\n",
        "\n",
        "# Split data into training and testing sets\n",
        "X_train, X_test, y_train, y_test = train_test_split(X, y, test_size=0.2, shuffle=False)\n",
        "\n",
        "# Initialize and train the linear regression model\n",
        "model = LinearRegression()\n",
        "model.fit(X_train, y_train)\n",
        "\n",
        "# Make predictions on the test set\n",
        "predictions = model.predict(X_test)\n",
        "\n",
        "# Evaluate the model\n",
        "mse = mean_squared_error(y_test, predictions)\n",
        "print(f'Mean Squared Error: {mse}')\n",
        "\n",
        "\n",
        "\n",
        "\n",
        "\n",
        "\n"
      ],
      "metadata": {
        "colab": {
          "base_uri": "https://localhost:8080/"
        },
        "id": "Wr0e3uap0_U3",
        "outputId": "82cbb612-0f2f-44b2-e0bb-b6e426591c23"
      },
      "execution_count": 10,
      "outputs": [
        {
          "output_type": "stream",
          "name": "stdout",
          "text": [
            "Mean Squared Error: 23898804.783667047\n"
          ]
        }
      ]
    },
    {
      "cell_type": "code",
      "source": [
        "!pip install pycaret"
      ],
      "metadata": {
        "colab": {
          "base_uri": "https://localhost:8080/"
        },
        "id": "rGgOL83K1SOK",
        "outputId": "5aef97c2-bd96-4391-f92f-df1246cf649e"
      },
      "execution_count": 11,
      "outputs": [
        {
          "output_type": "stream",
          "name": "stdout",
          "text": [
            "Requirement already satisfied: pycaret in /usr/local/lib/python3.10/dist-packages (3.0.4)\n",
            "Requirement already satisfied: ipython>=5.5.0 in /usr/local/lib/python3.10/dist-packages (from pycaret) (7.34.0)\n",
            "Requirement already satisfied: ipywidgets>=7.6.5 in /usr/local/lib/python3.10/dist-packages (from pycaret) (7.7.1)\n",
            "Requirement already satisfied: tqdm>=4.62.0 in /usr/local/lib/python3.10/dist-packages (from pycaret) (4.66.1)\n",
            "Requirement already satisfied: numpy<1.24,>=1.21 in /usr/local/lib/python3.10/dist-packages (from pycaret) (1.23.5)\n",
            "Requirement already satisfied: pandas<2.0.0,>=1.3.0 in /usr/local/lib/python3.10/dist-packages (from pycaret) (1.5.3)\n",
            "Requirement already satisfied: jinja2>=1.2 in /usr/local/lib/python3.10/dist-packages (from pycaret) (3.1.2)\n",
            "Requirement already satisfied: scipy<2.0.0 in /usr/local/lib/python3.10/dist-packages (from pycaret) (1.10.1)\n",
            "Requirement already satisfied: joblib>=1.2.0 in /usr/local/lib/python3.10/dist-packages (from pycaret) (1.3.2)\n",
            "Requirement already satisfied: scikit-learn<1.3.0,>=1.0 in /usr/local/lib/python3.10/dist-packages (from pycaret) (1.2.2)\n",
            "Requirement already satisfied: pyod>=1.0.8 in /usr/local/lib/python3.10/dist-packages (from pycaret) (1.1.0)\n",
            "Requirement already satisfied: imbalanced-learn>=0.8.1 in /usr/local/lib/python3.10/dist-packages (from pycaret) (0.10.1)\n",
            "Requirement already satisfied: category-encoders>=2.4.0 in /usr/local/lib/python3.10/dist-packages (from pycaret) (2.6.2)\n",
            "Requirement already satisfied: lightgbm>=3.0.0 in /usr/local/lib/python3.10/dist-packages (from pycaret) (4.0.0)\n",
            "Requirement already satisfied: numba>=0.55.0 in /usr/local/lib/python3.10/dist-packages (from pycaret) (0.56.4)\n",
            "Requirement already satisfied: requests>=2.27.1 in /usr/local/lib/python3.10/dist-packages (from pycaret) (2.31.0)\n",
            "Requirement already satisfied: psutil>=5.9.0 in /usr/local/lib/python3.10/dist-packages (from pycaret) (5.9.5)\n",
            "Requirement already satisfied: markupsafe>=2.0.1 in /usr/local/lib/python3.10/dist-packages (from pycaret) (2.1.3)\n",
            "Requirement already satisfied: importlib-metadata>=4.12.0 in /usr/local/lib/python3.10/dist-packages (from pycaret) (6.8.0)\n",
            "Requirement already satisfied: nbformat>=4.2.0 in /usr/local/lib/python3.10/dist-packages (from pycaret) (5.9.2)\n",
            "Requirement already satisfied: cloudpickle in /usr/local/lib/python3.10/dist-packages (from pycaret) (2.2.1)\n",
            "Requirement already satisfied: deprecation>=2.1.0 in /usr/local/lib/python3.10/dist-packages (from pycaret) (2.1.0)\n",
            "Requirement already satisfied: xxhash in /usr/local/lib/python3.10/dist-packages (from pycaret) (3.3.0)\n",
            "Requirement already satisfied: matplotlib>=3.3.0 in /usr/local/lib/python3.10/dist-packages (from pycaret) (3.7.1)\n",
            "Requirement already satisfied: scikit-plot>=0.3.7 in /usr/local/lib/python3.10/dist-packages (from pycaret) (0.3.7)\n",
            "Requirement already satisfied: yellowbrick>=1.4 in /usr/local/lib/python3.10/dist-packages (from pycaret) (1.5)\n",
            "Requirement already satisfied: plotly>=5.0.0 in /usr/local/lib/python3.10/dist-packages (from pycaret) (5.15.0)\n",
            "Requirement already satisfied: kaleido>=0.2.1 in /usr/local/lib/python3.10/dist-packages (from pycaret) (0.2.1)\n",
            "Requirement already satisfied: schemdraw==0.15 in /usr/local/lib/python3.10/dist-packages (from pycaret) (0.15)\n",
            "Requirement already satisfied: plotly-resampler>=0.8.3.1 in /usr/local/lib/python3.10/dist-packages (from pycaret) (0.9.1)\n",
            "Requirement already satisfied: statsmodels>=0.12.1 in /usr/local/lib/python3.10/dist-packages (from pycaret) (0.14.0)\n",
            "Requirement already satisfied: sktime!=0.17.1,!=0.17.2,!=0.18.0,>=0.16.1 in /usr/local/lib/python3.10/dist-packages (from pycaret) (0.22.0)\n",
            "Requirement already satisfied: tbats>=1.1.3 in /usr/local/lib/python3.10/dist-packages (from pycaret) (1.1.3)\n",
            "Requirement already satisfied: pmdarima!=1.8.1,<3.0.0,>=1.8.0 in /usr/local/lib/python3.10/dist-packages (from pycaret) (2.0.3)\n",
            "Requirement already satisfied: wurlitzer in /usr/local/lib/python3.10/dist-packages (from pycaret) (3.0.3)\n",
            "Requirement already satisfied: patsy>=0.5.1 in /usr/local/lib/python3.10/dist-packages (from category-encoders>=2.4.0->pycaret) (0.5.3)\n",
            "Requirement already satisfied: packaging in /usr/local/lib/python3.10/dist-packages (from deprecation>=2.1.0->pycaret) (23.1)\n",
            "Requirement already satisfied: threadpoolctl>=2.0.0 in /usr/local/lib/python3.10/dist-packages (from imbalanced-learn>=0.8.1->pycaret) (3.2.0)\n",
            "Requirement already satisfied: zipp>=0.5 in /usr/local/lib/python3.10/dist-packages (from importlib-metadata>=4.12.0->pycaret) (3.16.2)\n",
            "Requirement already satisfied: setuptools>=18.5 in /usr/local/lib/python3.10/dist-packages (from ipython>=5.5.0->pycaret) (67.7.2)\n",
            "Requirement already satisfied: jedi>=0.16 in /usr/local/lib/python3.10/dist-packages (from ipython>=5.5.0->pycaret) (0.19.0)\n",
            "Requirement already satisfied: decorator in /usr/local/lib/python3.10/dist-packages (from ipython>=5.5.0->pycaret) (4.4.2)\n",
            "Requirement already satisfied: pickleshare in /usr/local/lib/python3.10/dist-packages (from ipython>=5.5.0->pycaret) (0.7.5)\n",
            "Requirement already satisfied: traitlets>=4.2 in /usr/local/lib/python3.10/dist-packages (from ipython>=5.5.0->pycaret) (5.7.1)\n",
            "Requirement already satisfied: prompt-toolkit!=3.0.0,!=3.0.1,<3.1.0,>=2.0.0 in /usr/local/lib/python3.10/dist-packages (from ipython>=5.5.0->pycaret) (3.0.39)\n",
            "Requirement already satisfied: pygments in /usr/local/lib/python3.10/dist-packages (from ipython>=5.5.0->pycaret) (2.16.1)\n",
            "Requirement already satisfied: backcall in /usr/local/lib/python3.10/dist-packages (from ipython>=5.5.0->pycaret) (0.2.0)\n",
            "Requirement already satisfied: matplotlib-inline in /usr/local/lib/python3.10/dist-packages (from ipython>=5.5.0->pycaret) (0.1.6)\n",
            "Requirement already satisfied: pexpect>4.3 in /usr/local/lib/python3.10/dist-packages (from ipython>=5.5.0->pycaret) (4.8.0)\n",
            "Requirement already satisfied: ipykernel>=4.5.1 in /usr/local/lib/python3.10/dist-packages (from ipywidgets>=7.6.5->pycaret) (5.5.6)\n",
            "Requirement already satisfied: ipython-genutils~=0.2.0 in /usr/local/lib/python3.10/dist-packages (from ipywidgets>=7.6.5->pycaret) (0.2.0)\n",
            "Requirement already satisfied: widgetsnbextension~=3.6.0 in /usr/local/lib/python3.10/dist-packages (from ipywidgets>=7.6.5->pycaret) (3.6.5)\n",
            "Requirement already satisfied: jupyterlab-widgets>=1.0.0 in /usr/local/lib/python3.10/dist-packages (from ipywidgets>=7.6.5->pycaret) (3.0.8)\n",
            "Requirement already satisfied: contourpy>=1.0.1 in /usr/local/lib/python3.10/dist-packages (from matplotlib>=3.3.0->pycaret) (1.1.0)\n",
            "Requirement already satisfied: cycler>=0.10 in /usr/local/lib/python3.10/dist-packages (from matplotlib>=3.3.0->pycaret) (0.11.0)\n",
            "Requirement already satisfied: fonttools>=4.22.0 in /usr/local/lib/python3.10/dist-packages (from matplotlib>=3.3.0->pycaret) (4.42.1)\n",
            "Requirement already satisfied: kiwisolver>=1.0.1 in /usr/local/lib/python3.10/dist-packages (from matplotlib>=3.3.0->pycaret) (1.4.4)\n",
            "Requirement already satisfied: pillow>=6.2.0 in /usr/local/lib/python3.10/dist-packages (from matplotlib>=3.3.0->pycaret) (9.4.0)\n",
            "Requirement already satisfied: pyparsing>=2.3.1 in /usr/local/lib/python3.10/dist-packages (from matplotlib>=3.3.0->pycaret) (3.1.1)\n",
            "Requirement already satisfied: python-dateutil>=2.7 in /usr/local/lib/python3.10/dist-packages (from matplotlib>=3.3.0->pycaret) (2.8.2)\n",
            "Requirement already satisfied: fastjsonschema in /usr/local/lib/python3.10/dist-packages (from nbformat>=4.2.0->pycaret) (2.18.0)\n",
            "Requirement already satisfied: jsonschema>=2.6 in /usr/local/lib/python3.10/dist-packages (from nbformat>=4.2.0->pycaret) (4.19.0)\n",
            "Requirement already satisfied: jupyter-core in /usr/local/lib/python3.10/dist-packages (from nbformat>=4.2.0->pycaret) (5.3.1)\n",
            "Requirement already satisfied: llvmlite<0.40,>=0.39.0dev0 in /usr/local/lib/python3.10/dist-packages (from numba>=0.55.0->pycaret) (0.39.1)\n",
            "Requirement already satisfied: pytz>=2020.1 in /usr/local/lib/python3.10/dist-packages (from pandas<2.0.0,>=1.3.0->pycaret) (2023.3)\n",
            "Requirement already satisfied: tenacity>=6.2.0 in /usr/local/lib/python3.10/dist-packages (from plotly>=5.0.0->pycaret) (8.2.3)\n",
            "Requirement already satisfied: dash<3.0.0,>=2.11.0 in /usr/local/lib/python3.10/dist-packages (from plotly-resampler>=0.8.3.1->pycaret) (2.12.1)\n",
            "Requirement already satisfied: orjson<4.0.0,>=3.8.0 in /usr/local/lib/python3.10/dist-packages (from plotly-resampler>=0.8.3.1->pycaret) (3.9.5)\n",
            "Requirement already satisfied: trace-updater>=0.0.8 in /usr/local/lib/python3.10/dist-packages (from plotly-resampler>=0.8.3.1->pycaret) (0.0.9.1)\n",
            "Requirement already satisfied: tsdownsample==0.1.2 in /usr/local/lib/python3.10/dist-packages (from plotly-resampler>=0.8.3.1->pycaret) (0.1.2)\n",
            "Requirement already satisfied: Cython!=0.29.18,!=0.29.31,>=0.29 in /usr/local/lib/python3.10/dist-packages (from pmdarima!=1.8.1,<3.0.0,>=1.8.0->pycaret) (0.29.36)\n",
            "Requirement already satisfied: urllib3 in /usr/local/lib/python3.10/dist-packages (from pmdarima!=1.8.1,<3.0.0,>=1.8.0->pycaret) (2.0.4)\n",
            "Requirement already satisfied: six in /usr/local/lib/python3.10/dist-packages (from pyod>=1.0.8->pycaret) (1.16.0)\n",
            "Requirement already satisfied: charset-normalizer<4,>=2 in /usr/local/lib/python3.10/dist-packages (from requests>=2.27.1->pycaret) (3.2.0)\n",
            "Requirement already satisfied: idna<4,>=2.5 in /usr/local/lib/python3.10/dist-packages (from requests>=2.27.1->pycaret) (3.4)\n",
            "Requirement already satisfied: certifi>=2017.4.17 in /usr/local/lib/python3.10/dist-packages (from requests>=2.27.1->pycaret) (2023.7.22)\n",
            "Requirement already satisfied: scikit-base<0.6.0 in /usr/local/lib/python3.10/dist-packages (from sktime!=0.17.1,!=0.17.2,!=0.18.0,>=0.16.1->pycaret) (0.5.1)\n",
            "Requirement already satisfied: Flask<2.3.0,>=1.0.4 in /usr/local/lib/python3.10/dist-packages (from dash<3.0.0,>=2.11.0->plotly-resampler>=0.8.3.1->pycaret) (2.2.5)\n",
            "Requirement already satisfied: Werkzeug<2.3.0 in /usr/local/lib/python3.10/dist-packages (from dash<3.0.0,>=2.11.0->plotly-resampler>=0.8.3.1->pycaret) (2.2.3)\n",
            "Requirement already satisfied: dash-html-components==2.0.0 in /usr/local/lib/python3.10/dist-packages (from dash<3.0.0,>=2.11.0->plotly-resampler>=0.8.3.1->pycaret) (2.0.0)\n",
            "Requirement already satisfied: dash-core-components==2.0.0 in /usr/local/lib/python3.10/dist-packages (from dash<3.0.0,>=2.11.0->plotly-resampler>=0.8.3.1->pycaret) (2.0.0)\n",
            "Requirement already satisfied: dash-table==5.0.0 in /usr/local/lib/python3.10/dist-packages (from dash<3.0.0,>=2.11.0->plotly-resampler>=0.8.3.1->pycaret) (5.0.0)\n",
            "Requirement already satisfied: typing-extensions>=4.1.1 in /usr/local/lib/python3.10/dist-packages (from dash<3.0.0,>=2.11.0->plotly-resampler>=0.8.3.1->pycaret) (4.7.1)\n",
            "Requirement already satisfied: retrying in /usr/local/lib/python3.10/dist-packages (from dash<3.0.0,>=2.11.0->plotly-resampler>=0.8.3.1->pycaret) (1.3.4)\n",
            "Requirement already satisfied: ansi2html in /usr/local/lib/python3.10/dist-packages (from dash<3.0.0,>=2.11.0->plotly-resampler>=0.8.3.1->pycaret) (1.8.0)\n",
            "Requirement already satisfied: nest-asyncio in /usr/local/lib/python3.10/dist-packages (from dash<3.0.0,>=2.11.0->plotly-resampler>=0.8.3.1->pycaret) (1.5.7)\n",
            "Requirement already satisfied: jupyter-client in /usr/local/lib/python3.10/dist-packages (from ipykernel>=4.5.1->ipywidgets>=7.6.5->pycaret) (6.1.12)\n",
            "Requirement already satisfied: tornado>=4.2 in /usr/local/lib/python3.10/dist-packages (from ipykernel>=4.5.1->ipywidgets>=7.6.5->pycaret) (6.3.2)\n",
            "Requirement already satisfied: parso<0.9.0,>=0.8.3 in /usr/local/lib/python3.10/dist-packages (from jedi>=0.16->ipython>=5.5.0->pycaret) (0.8.3)\n",
            "Requirement already satisfied: attrs>=22.2.0 in /usr/local/lib/python3.10/dist-packages (from jsonschema>=2.6->nbformat>=4.2.0->pycaret) (23.1.0)\n",
            "Requirement already satisfied: jsonschema-specifications>=2023.03.6 in /usr/local/lib/python3.10/dist-packages (from jsonschema>=2.6->nbformat>=4.2.0->pycaret) (2023.7.1)\n",
            "Requirement already satisfied: referencing>=0.28.4 in /usr/local/lib/python3.10/dist-packages (from jsonschema>=2.6->nbformat>=4.2.0->pycaret) (0.30.2)\n",
            "Requirement already satisfied: rpds-py>=0.7.1 in /usr/local/lib/python3.10/dist-packages (from jsonschema>=2.6->nbformat>=4.2.0->pycaret) (0.9.2)\n",
            "Requirement already satisfied: ptyprocess>=0.5 in /usr/local/lib/python3.10/dist-packages (from pexpect>4.3->ipython>=5.5.0->pycaret) (0.7.0)\n",
            "Requirement already satisfied: wcwidth in /usr/local/lib/python3.10/dist-packages (from prompt-toolkit!=3.0.0,!=3.0.1,<3.1.0,>=2.0.0->ipython>=5.5.0->pycaret) (0.2.6)\n",
            "Requirement already satisfied: notebook>=4.4.1 in /usr/local/lib/python3.10/dist-packages (from widgetsnbextension~=3.6.0->ipywidgets>=7.6.5->pycaret) (6.5.5)\n",
            "Requirement already satisfied: platformdirs>=2.5 in /usr/local/lib/python3.10/dist-packages (from jupyter-core->nbformat>=4.2.0->pycaret) (3.10.0)\n",
            "Requirement already satisfied: itsdangerous>=2.0 in /usr/local/lib/python3.10/dist-packages (from Flask<2.3.0,>=1.0.4->dash<3.0.0,>=2.11.0->plotly-resampler>=0.8.3.1->pycaret) (2.1.2)\n",
            "Requirement already satisfied: click>=8.0 in /usr/local/lib/python3.10/dist-packages (from Flask<2.3.0,>=1.0.4->dash<3.0.0,>=2.11.0->plotly-resampler>=0.8.3.1->pycaret) (8.1.7)\n",
            "Requirement already satisfied: pyzmq<25,>=17 in /usr/local/lib/python3.10/dist-packages (from notebook>=4.4.1->widgetsnbextension~=3.6.0->ipywidgets>=7.6.5->pycaret) (23.2.1)\n",
            "Requirement already satisfied: argon2-cffi in /usr/local/lib/python3.10/dist-packages (from notebook>=4.4.1->widgetsnbextension~=3.6.0->ipywidgets>=7.6.5->pycaret) (23.1.0)\n",
            "Requirement already satisfied: nbconvert>=5 in /usr/local/lib/python3.10/dist-packages (from notebook>=4.4.1->widgetsnbextension~=3.6.0->ipywidgets>=7.6.5->pycaret) (6.5.4)\n",
            "Requirement already satisfied: Send2Trash>=1.8.0 in /usr/local/lib/python3.10/dist-packages (from notebook>=4.4.1->widgetsnbextension~=3.6.0->ipywidgets>=7.6.5->pycaret) (1.8.2)\n",
            "Requirement already satisfied: terminado>=0.8.3 in /usr/local/lib/python3.10/dist-packages (from notebook>=4.4.1->widgetsnbextension~=3.6.0->ipywidgets>=7.6.5->pycaret) (0.17.1)\n",
            "Requirement already satisfied: prometheus-client in /usr/local/lib/python3.10/dist-packages (from notebook>=4.4.1->widgetsnbextension~=3.6.0->ipywidgets>=7.6.5->pycaret) (0.17.1)\n",
            "Requirement already satisfied: nbclassic>=0.4.7 in /usr/local/lib/python3.10/dist-packages (from notebook>=4.4.1->widgetsnbextension~=3.6.0->ipywidgets>=7.6.5->pycaret) (1.0.0)\n",
            "Requirement already satisfied: jupyter-server>=1.8 in /usr/local/lib/python3.10/dist-packages (from nbclassic>=0.4.7->notebook>=4.4.1->widgetsnbextension~=3.6.0->ipywidgets>=7.6.5->pycaret) (1.24.0)\n",
            "Requirement already satisfied: notebook-shim>=0.2.3 in /usr/local/lib/python3.10/dist-packages (from nbclassic>=0.4.7->notebook>=4.4.1->widgetsnbextension~=3.6.0->ipywidgets>=7.6.5->pycaret) (0.2.3)\n",
            "Requirement already satisfied: lxml in /usr/local/lib/python3.10/dist-packages (from nbconvert>=5->notebook>=4.4.1->widgetsnbextension~=3.6.0->ipywidgets>=7.6.5->pycaret) (4.9.3)\n",
            "Requirement already satisfied: beautifulsoup4 in /usr/local/lib/python3.10/dist-packages (from nbconvert>=5->notebook>=4.4.1->widgetsnbextension~=3.6.0->ipywidgets>=7.6.5->pycaret) (4.11.2)\n",
            "Requirement already satisfied: bleach in /usr/local/lib/python3.10/dist-packages (from nbconvert>=5->notebook>=4.4.1->widgetsnbextension~=3.6.0->ipywidgets>=7.6.5->pycaret) (6.0.0)\n",
            "Requirement already satisfied: defusedxml in /usr/local/lib/python3.10/dist-packages (from nbconvert>=5->notebook>=4.4.1->widgetsnbextension~=3.6.0->ipywidgets>=7.6.5->pycaret) (0.7.1)\n",
            "Requirement already satisfied: entrypoints>=0.2.2 in /usr/local/lib/python3.10/dist-packages (from nbconvert>=5->notebook>=4.4.1->widgetsnbextension~=3.6.0->ipywidgets>=7.6.5->pycaret) (0.4)\n",
            "Requirement already satisfied: jupyterlab-pygments in /usr/local/lib/python3.10/dist-packages (from nbconvert>=5->notebook>=4.4.1->widgetsnbextension~=3.6.0->ipywidgets>=7.6.5->pycaret) (0.2.2)\n",
            "Requirement already satisfied: mistune<2,>=0.8.1 in /usr/local/lib/python3.10/dist-packages (from nbconvert>=5->notebook>=4.4.1->widgetsnbextension~=3.6.0->ipywidgets>=7.6.5->pycaret) (0.8.4)\n",
            "Requirement already satisfied: nbclient>=0.5.0 in /usr/local/lib/python3.10/dist-packages (from nbconvert>=5->notebook>=4.4.1->widgetsnbextension~=3.6.0->ipywidgets>=7.6.5->pycaret) (0.8.0)\n",
            "Requirement already satisfied: pandocfilters>=1.4.1 in /usr/local/lib/python3.10/dist-packages (from nbconvert>=5->notebook>=4.4.1->widgetsnbextension~=3.6.0->ipywidgets>=7.6.5->pycaret) (1.5.0)\n",
            "Requirement already satisfied: tinycss2 in /usr/local/lib/python3.10/dist-packages (from nbconvert>=5->notebook>=4.4.1->widgetsnbextension~=3.6.0->ipywidgets>=7.6.5->pycaret) (1.2.1)\n",
            "Requirement already satisfied: argon2-cffi-bindings in /usr/local/lib/python3.10/dist-packages (from argon2-cffi->notebook>=4.4.1->widgetsnbextension~=3.6.0->ipywidgets>=7.6.5->pycaret) (21.2.0)\n",
            "Requirement already satisfied: anyio<4,>=3.1.0 in /usr/local/lib/python3.10/dist-packages (from jupyter-server>=1.8->nbclassic>=0.4.7->notebook>=4.4.1->widgetsnbextension~=3.6.0->ipywidgets>=7.6.5->pycaret) (3.7.1)\n",
            "Requirement already satisfied: websocket-client in /usr/local/lib/python3.10/dist-packages (from jupyter-server>=1.8->nbclassic>=0.4.7->notebook>=4.4.1->widgetsnbextension~=3.6.0->ipywidgets>=7.6.5->pycaret) (1.6.2)\n",
            "Requirement already satisfied: cffi>=1.0.1 in /usr/local/lib/python3.10/dist-packages (from argon2-cffi-bindings->argon2-cffi->notebook>=4.4.1->widgetsnbextension~=3.6.0->ipywidgets>=7.6.5->pycaret) (1.15.1)\n",
            "Requirement already satisfied: soupsieve>1.2 in /usr/local/lib/python3.10/dist-packages (from beautifulsoup4->nbconvert>=5->notebook>=4.4.1->widgetsnbextension~=3.6.0->ipywidgets>=7.6.5->pycaret) (2.4.1)\n",
            "Requirement already satisfied: webencodings in /usr/local/lib/python3.10/dist-packages (from bleach->nbconvert>=5->notebook>=4.4.1->widgetsnbextension~=3.6.0->ipywidgets>=7.6.5->pycaret) (0.5.1)\n",
            "Requirement already satisfied: sniffio>=1.1 in /usr/local/lib/python3.10/dist-packages (from anyio<4,>=3.1.0->jupyter-server>=1.8->nbclassic>=0.4.7->notebook>=4.4.1->widgetsnbextension~=3.6.0->ipywidgets>=7.6.5->pycaret) (1.3.0)\n",
            "Requirement already satisfied: exceptiongroup in /usr/local/lib/python3.10/dist-packages (from anyio<4,>=3.1.0->jupyter-server>=1.8->nbclassic>=0.4.7->notebook>=4.4.1->widgetsnbextension~=3.6.0->ipywidgets>=7.6.5->pycaret) (1.1.3)\n",
            "Requirement already satisfied: pycparser in /usr/local/lib/python3.10/dist-packages (from cffi>=1.0.1->argon2-cffi-bindings->argon2-cffi->notebook>=4.4.1->widgetsnbextension~=3.6.0->ipywidgets>=7.6.5->pycaret) (2.21)\n"
          ]
        }
      ]
    },
    {
      "cell_type": "code",
      "source": [
        "from pycaret.regression import *\n",
        "exp_reg = setup(df, target='close', session_id=123)"
      ],
      "metadata": {
        "colab": {
          "base_uri": "https://localhost:8080/",
          "height": 739
        },
        "id": "B3CS_wjJ1Uwj",
        "outputId": "c83892dc-51aa-4c2b-96fc-ce2575ec9d85"
      },
      "execution_count": 12,
      "outputs": [
        {
          "output_type": "display_data",
          "data": {
            "text/plain": [
              "<pandas.io.formats.style.Styler at 0x7d6a21eff280>"
            ],
            "text/html": [
              "<style type=\"text/css\">\n",
              "#T_67180_row9_col1 {\n",
              "  background-color: lightgreen;\n",
              "}\n",
              "</style>\n",
              "<table id=\"T_67180\" class=\"dataframe\">\n",
              "  <thead>\n",
              "    <tr>\n",
              "      <th class=\"blank level0\" >&nbsp;</th>\n",
              "      <th id=\"T_67180_level0_col0\" class=\"col_heading level0 col0\" >Description</th>\n",
              "      <th id=\"T_67180_level0_col1\" class=\"col_heading level0 col1\" >Value</th>\n",
              "    </tr>\n",
              "  </thead>\n",
              "  <tbody>\n",
              "    <tr>\n",
              "      <th id=\"T_67180_level0_row0\" class=\"row_heading level0 row0\" >0</th>\n",
              "      <td id=\"T_67180_row0_col0\" class=\"data row0 col0\" >Session id</td>\n",
              "      <td id=\"T_67180_row0_col1\" class=\"data row0 col1\" >123</td>\n",
              "    </tr>\n",
              "    <tr>\n",
              "      <th id=\"T_67180_level0_row1\" class=\"row_heading level0 row1\" >1</th>\n",
              "      <td id=\"T_67180_row1_col0\" class=\"data row1 col0\" >Target</td>\n",
              "      <td id=\"T_67180_row1_col1\" class=\"data row1 col1\" >close</td>\n",
              "    </tr>\n",
              "    <tr>\n",
              "      <th id=\"T_67180_level0_row2\" class=\"row_heading level0 row2\" >2</th>\n",
              "      <td id=\"T_67180_row2_col0\" class=\"data row2 col0\" >Target type</td>\n",
              "      <td id=\"T_67180_row2_col1\" class=\"data row2 col1\" >Regression</td>\n",
              "    </tr>\n",
              "    <tr>\n",
              "      <th id=\"T_67180_level0_row3\" class=\"row_heading level0 row3\" >3</th>\n",
              "      <td id=\"T_67180_row3_col0\" class=\"data row3 col0\" >Original data shape</td>\n",
              "      <td id=\"T_67180_row3_col1\" class=\"data row3 col1\" >(942297, 13)</td>\n",
              "    </tr>\n",
              "    <tr>\n",
              "      <th id=\"T_67180_level0_row4\" class=\"row_heading level0 row4\" >4</th>\n",
              "      <td id=\"T_67180_row4_col0\" class=\"data row4 col0\" >Transformed data shape</td>\n",
              "      <td id=\"T_67180_row4_col1\" class=\"data row4 col1\" >(942297, 13)</td>\n",
              "    </tr>\n",
              "    <tr>\n",
              "      <th id=\"T_67180_level0_row5\" class=\"row_heading level0 row5\" >5</th>\n",
              "      <td id=\"T_67180_row5_col0\" class=\"data row5 col0\" >Transformed train set shape</td>\n",
              "      <td id=\"T_67180_row5_col1\" class=\"data row5 col1\" >(659607, 13)</td>\n",
              "    </tr>\n",
              "    <tr>\n",
              "      <th id=\"T_67180_level0_row6\" class=\"row_heading level0 row6\" >6</th>\n",
              "      <td id=\"T_67180_row6_col0\" class=\"data row6 col0\" >Transformed test set shape</td>\n",
              "      <td id=\"T_67180_row6_col1\" class=\"data row6 col1\" >(282690, 13)</td>\n",
              "    </tr>\n",
              "    <tr>\n",
              "      <th id=\"T_67180_level0_row7\" class=\"row_heading level0 row7\" >7</th>\n",
              "      <td id=\"T_67180_row7_col0\" class=\"data row7 col0\" >Numeric features</td>\n",
              "      <td id=\"T_67180_row7_col1\" class=\"data row7 col1\" >8</td>\n",
              "    </tr>\n",
              "    <tr>\n",
              "      <th id=\"T_67180_level0_row8\" class=\"row_heading level0 row8\" >8</th>\n",
              "      <td id=\"T_67180_row8_col0\" class=\"data row8 col0\" >Categorical features</td>\n",
              "      <td id=\"T_67180_row8_col1\" class=\"data row8 col1\" >4</td>\n",
              "    </tr>\n",
              "    <tr>\n",
              "      <th id=\"T_67180_level0_row9\" class=\"row_heading level0 row9\" >9</th>\n",
              "      <td id=\"T_67180_row9_col0\" class=\"data row9 col0\" >Preprocess</td>\n",
              "      <td id=\"T_67180_row9_col1\" class=\"data row9 col1\" >True</td>\n",
              "    </tr>\n",
              "    <tr>\n",
              "      <th id=\"T_67180_level0_row10\" class=\"row_heading level0 row10\" >10</th>\n",
              "      <td id=\"T_67180_row10_col0\" class=\"data row10 col0\" >Imputation type</td>\n",
              "      <td id=\"T_67180_row10_col1\" class=\"data row10 col1\" >simple</td>\n",
              "    </tr>\n",
              "    <tr>\n",
              "      <th id=\"T_67180_level0_row11\" class=\"row_heading level0 row11\" >11</th>\n",
              "      <td id=\"T_67180_row11_col0\" class=\"data row11 col0\" >Numeric imputation</td>\n",
              "      <td id=\"T_67180_row11_col1\" class=\"data row11 col1\" >mean</td>\n",
              "    </tr>\n",
              "    <tr>\n",
              "      <th id=\"T_67180_level0_row12\" class=\"row_heading level0 row12\" >12</th>\n",
              "      <td id=\"T_67180_row12_col0\" class=\"data row12 col0\" >Categorical imputation</td>\n",
              "      <td id=\"T_67180_row12_col1\" class=\"data row12 col1\" >mode</td>\n",
              "    </tr>\n",
              "    <tr>\n",
              "      <th id=\"T_67180_level0_row13\" class=\"row_heading level0 row13\" >13</th>\n",
              "      <td id=\"T_67180_row13_col0\" class=\"data row13 col0\" >Maximum one-hot encoding</td>\n",
              "      <td id=\"T_67180_row13_col1\" class=\"data row13 col1\" >25</td>\n",
              "    </tr>\n",
              "    <tr>\n",
              "      <th id=\"T_67180_level0_row14\" class=\"row_heading level0 row14\" >14</th>\n",
              "      <td id=\"T_67180_row14_col0\" class=\"data row14 col0\" >Encoding method</td>\n",
              "      <td id=\"T_67180_row14_col1\" class=\"data row14 col1\" >None</td>\n",
              "    </tr>\n",
              "    <tr>\n",
              "      <th id=\"T_67180_level0_row15\" class=\"row_heading level0 row15\" >15</th>\n",
              "      <td id=\"T_67180_row15_col0\" class=\"data row15 col0\" >Fold Generator</td>\n",
              "      <td id=\"T_67180_row15_col1\" class=\"data row15 col1\" >KFold</td>\n",
              "    </tr>\n",
              "    <tr>\n",
              "      <th id=\"T_67180_level0_row16\" class=\"row_heading level0 row16\" >16</th>\n",
              "      <td id=\"T_67180_row16_col0\" class=\"data row16 col0\" >Fold Number</td>\n",
              "      <td id=\"T_67180_row16_col1\" class=\"data row16 col1\" >10</td>\n",
              "    </tr>\n",
              "    <tr>\n",
              "      <th id=\"T_67180_level0_row17\" class=\"row_heading level0 row17\" >17</th>\n",
              "      <td id=\"T_67180_row17_col0\" class=\"data row17 col0\" >CPU Jobs</td>\n",
              "      <td id=\"T_67180_row17_col1\" class=\"data row17 col1\" >-1</td>\n",
              "    </tr>\n",
              "    <tr>\n",
              "      <th id=\"T_67180_level0_row18\" class=\"row_heading level0 row18\" >18</th>\n",
              "      <td id=\"T_67180_row18_col0\" class=\"data row18 col0\" >Use GPU</td>\n",
              "      <td id=\"T_67180_row18_col1\" class=\"data row18 col1\" >False</td>\n",
              "    </tr>\n",
              "    <tr>\n",
              "      <th id=\"T_67180_level0_row19\" class=\"row_heading level0 row19\" >19</th>\n",
              "      <td id=\"T_67180_row19_col0\" class=\"data row19 col0\" >Log Experiment</td>\n",
              "      <td id=\"T_67180_row19_col1\" class=\"data row19 col1\" >False</td>\n",
              "    </tr>\n",
              "    <tr>\n",
              "      <th id=\"T_67180_level0_row20\" class=\"row_heading level0 row20\" >20</th>\n",
              "      <td id=\"T_67180_row20_col0\" class=\"data row20 col0\" >Experiment Name</td>\n",
              "      <td id=\"T_67180_row20_col1\" class=\"data row20 col1\" >reg-default-name</td>\n",
              "    </tr>\n",
              "    <tr>\n",
              "      <th id=\"T_67180_level0_row21\" class=\"row_heading level0 row21\" >21</th>\n",
              "      <td id=\"T_67180_row21_col0\" class=\"data row21 col0\" >USI</td>\n",
              "      <td id=\"T_67180_row21_col1\" class=\"data row21 col1\" >26dc</td>\n",
              "    </tr>\n",
              "  </tbody>\n",
              "</table>\n"
            ]
          },
          "metadata": {}
        }
      ]
    },
    {
      "cell_type": "code",
      "source": [
        "best_model = compare_models()"
      ],
      "metadata": {
        "colab": {
          "base_uri": "https://localhost:8080/",
          "height": 1000,
          "referenced_widgets": [
            "06db8079be2e44be9cefd6f279b5838f",
            "846b5b3ca17f43b4bf2cb5b2bcbca51c",
            "bcc11a13623242e18bebc93fb6d06931",
            "7fa691952dcf4608961345c0381ed63f",
            "4264a034d6ac44d8b6b12bd69df0d48f",
            "975d61bfbf0c4b35ae47f050b8d95269",
            "ee5b1be2d1e2429d9f75ed38130d35f2",
            "268cf21b83ff4939a8181884d6fb2ce1",
            "eaef8294bcdd460c9d4d785e3455f6d1",
            "c173f01486b5435f8eec71f1a732789f",
            "2cfaee6bb8044937a502e121960f1b89"
          ]
        },
        "id": "gMiUBnQk1ZDR",
        "outputId": "f9ed79b7-4e23-4a05-8953-bd367e3cc555"
      },
      "execution_count": 15,
      "outputs": [
        {
          "output_type": "display_data",
          "data": {
            "text/plain": [
              "                                                                       \n",
              "                                                                       \n",
              "Initiated  . . . . . . . . . . . . . . . . . .                 08:34:31\n",
              "Status     . . . . . . . . . . . . . . . . . .         Fitting 10 Folds\n",
              "Estimator  . . . . . . . . . . . . . . . . . .  Random Forest Regressor"
            ],
            "text/html": [
              "\n",
              "  <div id=\"df-73179919-cf6d-4aec-93cd-3ed4633969f2\" class=\"colab-df-container\">\n",
              "    <div>\n",
              "<style scoped>\n",
              "    .dataframe tbody tr th:only-of-type {\n",
              "        vertical-align: middle;\n",
              "    }\n",
              "\n",
              "    .dataframe tbody tr th {\n",
              "        vertical-align: top;\n",
              "    }\n",
              "\n",
              "    .dataframe thead th {\n",
              "        text-align: right;\n",
              "    }\n",
              "</style>\n",
              "<table border=\"1\" class=\"dataframe\">\n",
              "  <thead>\n",
              "    <tr style=\"text-align: right;\">\n",
              "      <th></th>\n",
              "      <th></th>\n",
              "      <th></th>\n",
              "    </tr>\n",
              "    <tr>\n",
              "      <th></th>\n",
              "      <th></th>\n",
              "      <th></th>\n",
              "    </tr>\n",
              "  </thead>\n",
              "  <tbody>\n",
              "    <tr>\n",
              "      <th>Initiated</th>\n",
              "      <td>. . . . . . . . . . . . . . . . . .</td>\n",
              "      <td>08:34:31</td>\n",
              "    </tr>\n",
              "    <tr>\n",
              "      <th>Status</th>\n",
              "      <td>. . . . . . . . . . . . . . . . . .</td>\n",
              "      <td>Fitting 10 Folds</td>\n",
              "    </tr>\n",
              "    <tr>\n",
              "      <th>Estimator</th>\n",
              "      <td>. . . . . . . . . . . . . . . . . .</td>\n",
              "      <td>Random Forest Regressor</td>\n",
              "    </tr>\n",
              "  </tbody>\n",
              "</table>\n",
              "</div>\n",
              "    <div class=\"colab-df-buttons\">\n",
              "\n",
              "  <div class=\"colab-df-container\">\n",
              "    <button class=\"colab-df-convert\" onclick=\"convertToInteractive('df-73179919-cf6d-4aec-93cd-3ed4633969f2')\"\n",
              "            title=\"Convert this dataframe to an interactive table.\"\n",
              "            style=\"display:none;\">\n",
              "\n",
              "  <svg xmlns=\"http://www.w3.org/2000/svg\" height=\"24px\" viewBox=\"0 -960 960 960\">\n",
              "    <path d=\"M120-120v-720h720v720H120Zm60-500h600v-160H180v160Zm220 220h160v-160H400v160Zm0 220h160v-160H400v160ZM180-400h160v-160H180v160Zm440 0h160v-160H620v160ZM180-180h160v-160H180v160Zm440 0h160v-160H620v160Z\"/>\n",
              "  </svg>\n",
              "    </button>\n",
              "\n",
              "  <style>\n",
              "    .colab-df-container {\n",
              "      display:flex;\n",
              "      gap: 12px;\n",
              "    }\n",
              "\n",
              "    .colab-df-convert {\n",
              "      background-color: #E8F0FE;\n",
              "      border: none;\n",
              "      border-radius: 50%;\n",
              "      cursor: pointer;\n",
              "      display: none;\n",
              "      fill: #1967D2;\n",
              "      height: 32px;\n",
              "      padding: 0 0 0 0;\n",
              "      width: 32px;\n",
              "    }\n",
              "\n",
              "    .colab-df-convert:hover {\n",
              "      background-color: #E2EBFA;\n",
              "      box-shadow: 0px 1px 2px rgba(60, 64, 67, 0.3), 0px 1px 3px 1px rgba(60, 64, 67, 0.15);\n",
              "      fill: #174EA6;\n",
              "    }\n",
              "\n",
              "    .colab-df-buttons div {\n",
              "      margin-bottom: 4px;\n",
              "    }\n",
              "\n",
              "    [theme=dark] .colab-df-convert {\n",
              "      background-color: #3B4455;\n",
              "      fill: #D2E3FC;\n",
              "    }\n",
              "\n",
              "    [theme=dark] .colab-df-convert:hover {\n",
              "      background-color: #434B5C;\n",
              "      box-shadow: 0px 1px 3px 1px rgba(0, 0, 0, 0.15);\n",
              "      filter: drop-shadow(0px 1px 2px rgba(0, 0, 0, 0.3));\n",
              "      fill: #FFFFFF;\n",
              "    }\n",
              "  </style>\n",
              "\n",
              "    <script>\n",
              "      const buttonEl =\n",
              "        document.querySelector('#df-73179919-cf6d-4aec-93cd-3ed4633969f2 button.colab-df-convert');\n",
              "      buttonEl.style.display =\n",
              "        google.colab.kernel.accessAllowed ? 'block' : 'none';\n",
              "\n",
              "      async function convertToInteractive(key) {\n",
              "        const element = document.querySelector('#df-73179919-cf6d-4aec-93cd-3ed4633969f2');\n",
              "        const dataTable =\n",
              "          await google.colab.kernel.invokeFunction('convertToInteractive',\n",
              "                                                    [key], {});\n",
              "        if (!dataTable) return;\n",
              "\n",
              "        const docLinkHtml = 'Like what you see? Visit the ' +\n",
              "          '<a target=\"_blank\" href=https://colab.research.google.com/notebooks/data_table.ipynb>data table notebook</a>'\n",
              "          + ' to learn more about interactive tables.';\n",
              "        element.innerHTML = '';\n",
              "        dataTable['output_type'] = 'display_data';\n",
              "        await google.colab.output.renderOutput(dataTable, element);\n",
              "        const docLink = document.createElement('div');\n",
              "        docLink.innerHTML = docLinkHtml;\n",
              "        element.appendChild(docLink);\n",
              "      }\n",
              "    </script>\n",
              "  </div>\n",
              "\n",
              "    </div>\n",
              "  </div>\n"
            ]
          },
          "metadata": {}
        },
        {
          "output_type": "display_data",
          "data": {
            "text/plain": [
              "<pandas.io.formats.style.Styler at 0x7d6a3392a290>"
            ],
            "text/html": [
              "<style type=\"text/css\">\n",
              "#T_93ce6 th {\n",
              "  text-align: left;\n",
              "}\n",
              "#T_93ce6_row0_col0, #T_93ce6_row0_col1, #T_93ce6_row0_col2, #T_93ce6_row0_col3, #T_93ce6_row0_col4, #T_93ce6_row0_col5, #T_93ce6_row0_col6, #T_93ce6_row0_col7, #T_93ce6_row1_col0, #T_93ce6_row1_col1, #T_93ce6_row1_col2, #T_93ce6_row1_col3, #T_93ce6_row1_col4, #T_93ce6_row1_col5, #T_93ce6_row1_col6, #T_93ce6_row1_col7, #T_93ce6_row2_col0, #T_93ce6_row2_col1, #T_93ce6_row2_col2, #T_93ce6_row2_col3, #T_93ce6_row2_col4, #T_93ce6_row2_col5, #T_93ce6_row2_col6, #T_93ce6_row2_col7, #T_93ce6_row3_col0, #T_93ce6_row3_col1, #T_93ce6_row3_col2, #T_93ce6_row3_col3, #T_93ce6_row3_col4, #T_93ce6_row3_col5, #T_93ce6_row3_col6, #T_93ce6_row3_col7, #T_93ce6_row4_col0, #T_93ce6_row4_col1, #T_93ce6_row4_col2, #T_93ce6_row4_col3, #T_93ce6_row4_col4, #T_93ce6_row4_col5, #T_93ce6_row4_col6, #T_93ce6_row4_col7, #T_93ce6_row5_col0, #T_93ce6_row5_col1, #T_93ce6_row5_col2, #T_93ce6_row5_col3, #T_93ce6_row5_col4, #T_93ce6_row5_col5, #T_93ce6_row5_col6, #T_93ce6_row5_col7, #T_93ce6_row6_col0, #T_93ce6_row6_col1, #T_93ce6_row6_col2, #T_93ce6_row6_col3, #T_93ce6_row6_col4, #T_93ce6_row6_col5, #T_93ce6_row6_col6, #T_93ce6_row6_col7, #T_93ce6_row7_col0, #T_93ce6_row7_col1, #T_93ce6_row7_col2, #T_93ce6_row7_col3, #T_93ce6_row7_col4, #T_93ce6_row7_col5, #T_93ce6_row7_col6, #T_93ce6_row7_col7, #T_93ce6_row8_col0, #T_93ce6_row8_col1, #T_93ce6_row8_col2, #T_93ce6_row8_col3, #T_93ce6_row8_col4, #T_93ce6_row8_col5, #T_93ce6_row8_col6, #T_93ce6_row8_col7, #T_93ce6_row9_col0, #T_93ce6_row9_col1, #T_93ce6_row9_col2, #T_93ce6_row9_col3, #T_93ce6_row9_col4, #T_93ce6_row9_col5, #T_93ce6_row9_col6, #T_93ce6_row9_col7, #T_93ce6_row10_col0, #T_93ce6_row10_col1, #T_93ce6_row10_col2, #T_93ce6_row10_col3, #T_93ce6_row10_col4, #T_93ce6_row10_col5, #T_93ce6_row10_col6, #T_93ce6_row10_col7, #T_93ce6_row11_col0, #T_93ce6_row11_col1, #T_93ce6_row11_col2, #T_93ce6_row11_col3, #T_93ce6_row11_col4, #T_93ce6_row11_col5, #T_93ce6_row11_col6, #T_93ce6_row11_col7 {\n",
              "  text-align: left;\n",
              "}\n",
              "</style>\n",
              "<table id=\"T_93ce6\" class=\"dataframe\">\n",
              "  <thead>\n",
              "    <tr>\n",
              "      <th class=\"blank level0\" >&nbsp;</th>\n",
              "      <th id=\"T_93ce6_level0_col0\" class=\"col_heading level0 col0\" >Model</th>\n",
              "      <th id=\"T_93ce6_level0_col1\" class=\"col_heading level0 col1\" >MAE</th>\n",
              "      <th id=\"T_93ce6_level0_col2\" class=\"col_heading level0 col2\" >MSE</th>\n",
              "      <th id=\"T_93ce6_level0_col3\" class=\"col_heading level0 col3\" >RMSE</th>\n",
              "      <th id=\"T_93ce6_level0_col4\" class=\"col_heading level0 col4\" >R2</th>\n",
              "      <th id=\"T_93ce6_level0_col5\" class=\"col_heading level0 col5\" >RMSLE</th>\n",
              "      <th id=\"T_93ce6_level0_col6\" class=\"col_heading level0 col6\" >MAPE</th>\n",
              "      <th id=\"T_93ce6_level0_col7\" class=\"col_heading level0 col7\" >TT (Sec)</th>\n",
              "    </tr>\n",
              "  </thead>\n",
              "  <tbody>\n",
              "    <tr>\n",
              "      <th id=\"T_93ce6_level0_row0\" class=\"row_heading level0 row0\" >lr</th>\n",
              "      <td id=\"T_93ce6_row0_col0\" class=\"data row0 col0\" >Linear Regression</td>\n",
              "      <td id=\"T_93ce6_row0_col1\" class=\"data row0 col1\" >65.6341</td>\n",
              "      <td id=\"T_93ce6_row0_col2\" class=\"data row0 col2\" >5034720.5446</td>\n",
              "      <td id=\"T_93ce6_row0_col3\" class=\"data row0 col3\" >2118.9967</td>\n",
              "      <td id=\"T_93ce6_row0_col4\" class=\"data row0 col4\" >0.9695</td>\n",
              "      <td id=\"T_93ce6_row0_col5\" class=\"data row0 col5\" >3.1470</td>\n",
              "      <td id=\"T_93ce6_row0_col6\" class=\"data row0 col6\" >7298299.4631</td>\n",
              "      <td id=\"T_93ce6_row0_col7\" class=\"data row0 col7\" >1.8570</td>\n",
              "    </tr>\n",
              "    <tr>\n",
              "      <th id=\"T_93ce6_level0_row1\" class=\"row_heading level0 row1\" >lasso</th>\n",
              "      <td id=\"T_93ce6_row1_col0\" class=\"data row1 col0\" >Lasso Regression</td>\n",
              "      <td id=\"T_93ce6_row1_col1\" class=\"data row1 col1\" >63.1521</td>\n",
              "      <td id=\"T_93ce6_row1_col2\" class=\"data row1 col2\" >5034707.4893</td>\n",
              "      <td id=\"T_93ce6_row1_col3\" class=\"data row1 col3\" >2118.9947</td>\n",
              "      <td id=\"T_93ce6_row1_col4\" class=\"data row1 col4\" >0.9695</td>\n",
              "      <td id=\"T_93ce6_row1_col5\" class=\"data row1 col5\" >3.0734</td>\n",
              "      <td id=\"T_93ce6_row1_col6\" class=\"data row1 col6\" >6689753.4970</td>\n",
              "      <td id=\"T_93ce6_row1_col7\" class=\"data row1 col7\" >1.1900</td>\n",
              "    </tr>\n",
              "    <tr>\n",
              "      <th id=\"T_93ce6_level0_row2\" class=\"row_heading level0 row2\" >ridge</th>\n",
              "      <td id=\"T_93ce6_row2_col0\" class=\"data row2 col0\" >Ridge Regression</td>\n",
              "      <td id=\"T_93ce6_row2_col1\" class=\"data row2 col1\" >65.5657</td>\n",
              "      <td id=\"T_93ce6_row2_col2\" class=\"data row2 col2\" >5034695.1748</td>\n",
              "      <td id=\"T_93ce6_row2_col3\" class=\"data row2 col3\" >2118.9932</td>\n",
              "      <td id=\"T_93ce6_row2_col4\" class=\"data row2 col4\" >0.9695</td>\n",
              "      <td id=\"T_93ce6_row2_col5\" class=\"data row2 col5\" >3.1454</td>\n",
              "      <td id=\"T_93ce6_row2_col6\" class=\"data row2 col6\" >7278854.7965</td>\n",
              "      <td id=\"T_93ce6_row2_col7\" class=\"data row2 col7\" >0.8700</td>\n",
              "    </tr>\n",
              "    <tr>\n",
              "      <th id=\"T_93ce6_level0_row3\" class=\"row_heading level0 row3\" >en</th>\n",
              "      <td id=\"T_93ce6_row3_col0\" class=\"data row3 col0\" >Elastic Net</td>\n",
              "      <td id=\"T_93ce6_row3_col1\" class=\"data row3 col1\" >45.9818</td>\n",
              "      <td id=\"T_93ce6_row3_col2\" class=\"data row3 col2\" >5035653.4819</td>\n",
              "      <td id=\"T_93ce6_row3_col3\" class=\"data row3 col3\" >2119.2110</td>\n",
              "      <td id=\"T_93ce6_row3_col4\" class=\"data row3 col4\" >0.9695</td>\n",
              "      <td id=\"T_93ce6_row3_col5\" class=\"data row3 col5\" >2.2202</td>\n",
              "      <td id=\"T_93ce6_row3_col6\" class=\"data row3 col6\" >2457963.4267</td>\n",
              "      <td id=\"T_93ce6_row3_col7\" class=\"data row3 col7\" >1.1910</td>\n",
              "    </tr>\n",
              "    <tr>\n",
              "      <th id=\"T_93ce6_level0_row4\" class=\"row_heading level0 row4\" >br</th>\n",
              "      <td id=\"T_93ce6_row4_col0\" class=\"data row4 col0\" >Bayesian Ridge</td>\n",
              "      <td id=\"T_93ce6_row4_col1\" class=\"data row4 col1\" >44.8925</td>\n",
              "      <td id=\"T_93ce6_row4_col2\" class=\"data row4 col2\" >5036044.0559</td>\n",
              "      <td id=\"T_93ce6_row4_col3\" class=\"data row4 col3\" >2119.3064</td>\n",
              "      <td id=\"T_93ce6_row4_col4\" class=\"data row4 col4\" >0.9695</td>\n",
              "      <td id=\"T_93ce6_row4_col5\" class=\"data row4 col5\" >2.1211</td>\n",
              "      <td id=\"T_93ce6_row4_col6\" class=\"data row4 col6\" >2056545.5379</td>\n",
              "      <td id=\"T_93ce6_row4_col7\" class=\"data row4 col7\" >1.0220</td>\n",
              "    </tr>\n",
              "    <tr>\n",
              "      <th id=\"T_93ce6_level0_row5\" class=\"row_heading level0 row5\" >llar</th>\n",
              "      <td id=\"T_93ce6_row5_col0\" class=\"data row5 col0\" >Lasso Least Angle Regression</td>\n",
              "      <td id=\"T_93ce6_row5_col1\" class=\"data row5 col1\" >55.6451</td>\n",
              "      <td id=\"T_93ce6_row5_col2\" class=\"data row5 col2\" >5185996.4864</td>\n",
              "      <td id=\"T_93ce6_row5_col3\" class=\"data row5 col3\" >2152.7124</td>\n",
              "      <td id=\"T_93ce6_row5_col4\" class=\"data row5 col4\" >0.9687</td>\n",
              "      <td id=\"T_93ce6_row5_col5\" class=\"data row5 col5\" >2.5437</td>\n",
              "      <td id=\"T_93ce6_row5_col6\" class=\"data row5 col6\" >4360932.1351</td>\n",
              "      <td id=\"T_93ce6_row5_col7\" class=\"data row5 col7\" >0.8900</td>\n",
              "    </tr>\n",
              "    <tr>\n",
              "      <th id=\"T_93ce6_level0_row6\" class=\"row_heading level0 row6\" >knn</th>\n",
              "      <td id=\"T_93ce6_row6_col0\" class=\"data row6 col0\" >K Neighbors Regressor</td>\n",
              "      <td id=\"T_93ce6_row6_col1\" class=\"data row6 col1\" >44.5223</td>\n",
              "      <td id=\"T_93ce6_row6_col2\" class=\"data row6 col2\" >6436010.8500</td>\n",
              "      <td id=\"T_93ce6_row6_col3\" class=\"data row6 col3\" >2305.2577</td>\n",
              "      <td id=\"T_93ce6_row6_col4\" class=\"data row6 col4\" >0.9640</td>\n",
              "      <td id=\"T_93ce6_row6_col5\" class=\"data row6 col5\" >0.9199</td>\n",
              "      <td id=\"T_93ce6_row6_col6\" class=\"data row6 col6\" >11208.6657</td>\n",
              "      <td id=\"T_93ce6_row6_col7\" class=\"data row6 col7\" >7.2520</td>\n",
              "    </tr>\n",
              "    <tr>\n",
              "      <th id=\"T_93ce6_level0_row7\" class=\"row_heading level0 row7\" >dt</th>\n",
              "      <td id=\"T_93ce6_row7_col0\" class=\"data row7 col0\" >Decision Tree Regressor</td>\n",
              "      <td id=\"T_93ce6_row7_col1\" class=\"data row7 col1\" >29.4754</td>\n",
              "      <td id=\"T_93ce6_row7_col2\" class=\"data row7 col2\" >11537506.8366</td>\n",
              "      <td id=\"T_93ce6_row7_col3\" class=\"data row7 col3\" >2874.4275</td>\n",
              "      <td id=\"T_93ce6_row7_col4\" class=\"data row7 col4\" >0.9357</td>\n",
              "      <td id=\"T_93ce6_row7_col5\" class=\"data row7 col5\" >0.0152</td>\n",
              "      <td id=\"T_93ce6_row7_col6\" class=\"data row7 col6\" >0.0248</td>\n",
              "      <td id=\"T_93ce6_row7_col7\" class=\"data row7 col7\" >1.4840</td>\n",
              "    </tr>\n",
              "    <tr>\n",
              "      <th id=\"T_93ce6_level0_row8\" class=\"row_heading level0 row8\" >omp</th>\n",
              "      <td id=\"T_93ce6_row8_col0\" class=\"data row8 col0\" >Orthogonal Matching Pursuit</td>\n",
              "      <td id=\"T_93ce6_row8_col1\" class=\"data row8 col1\" >654.5131</td>\n",
              "      <td id=\"T_93ce6_row8_col2\" class=\"data row8 col2\" >170870483.6102</td>\n",
              "      <td id=\"T_93ce6_row8_col3\" class=\"data row8 col3\" >12844.1597</td>\n",
              "      <td id=\"T_93ce6_row8_col4\" class=\"data row8 col4\" >0.0002</td>\n",
              "      <td id=\"T_93ce6_row8_col5\" class=\"data row8 col5\" >5.5269</td>\n",
              "      <td id=\"T_93ce6_row8_col6\" class=\"data row8 col6\" >64032492.9469</td>\n",
              "      <td id=\"T_93ce6_row8_col7\" class=\"data row8 col7\" >1.1960</td>\n",
              "    </tr>\n",
              "    <tr>\n",
              "      <th id=\"T_93ce6_level0_row9\" class=\"row_heading level0 row9\" >huber</th>\n",
              "      <td id=\"T_93ce6_row9_col0\" class=\"data row9 col0\" >Huber Regressor</td>\n",
              "      <td id=\"T_93ce6_row9_col1\" class=\"data row9 col1\" >335.0716</td>\n",
              "      <td id=\"T_93ce6_row9_col2\" class=\"data row9 col2\" >170978699.2973</td>\n",
              "      <td id=\"T_93ce6_row9_col3\" class=\"data row9 col3\" >12848.2940</td>\n",
              "      <td id=\"T_93ce6_row9_col4\" class=\"data row9 col4\" >-0.0005</td>\n",
              "      <td id=\"T_93ce6_row9_col5\" class=\"data row9 col5\" >1.0960</td>\n",
              "      <td id=\"T_93ce6_row9_col6\" class=\"data row9 col6\" >750.8821</td>\n",
              "      <td id=\"T_93ce6_row9_col7\" class=\"data row9 col7\" >1.2040</td>\n",
              "    </tr>\n",
              "    <tr>\n",
              "      <th id=\"T_93ce6_level0_row10\" class=\"row_heading level0 row10\" >par</th>\n",
              "      <td id=\"T_93ce6_row10_col0\" class=\"data row10 col0\" >Passive Aggressive Regressor</td>\n",
              "      <td id=\"T_93ce6_row10_col1\" class=\"data row10 col1\" >9094.5048</td>\n",
              "      <td id=\"T_93ce6_row10_col2\" class=\"data row10 col2\" >152293709831.7477</td>\n",
              "      <td id=\"T_93ce6_row10_col3\" class=\"data row10 col3\" >188128.3114</td>\n",
              "      <td id=\"T_93ce6_row10_col4\" class=\"data row10 col4\" >-1093.9219</td>\n",
              "      <td id=\"T_93ce6_row10_col5\" class=\"data row10 col5\" >3.0274</td>\n",
              "      <td id=\"T_93ce6_row10_col6\" class=\"data row10 col6\" >675804.4688</td>\n",
              "      <td id=\"T_93ce6_row10_col7\" class=\"data row10 col7\" >0.9720</td>\n",
              "    </tr>\n",
              "    <tr>\n",
              "      <th id=\"T_93ce6_level0_row11\" class=\"row_heading level0 row11\" >lar</th>\n",
              "      <td id=\"T_93ce6_row11_col0\" class=\"data row11 col0\" >Least Angle Regression</td>\n",
              "      <td id=\"T_93ce6_row11_col1\" class=\"data row11 col1\" >11866489465568754.0000</td>\n",
              "      <td id=\"T_93ce6_row11_col2\" class=\"data row11 col2\" >1502402560417540046445446808207360.0000</td>\n",
              "      <td id=\"T_93ce6_row11_col3\" class=\"data row11 col3\" >17135319060691754.0000</td>\n",
              "      <td id=\"T_93ce6_row11_col4\" class=\"data row11 col4\" >-9441336017869150804246528.0000</td>\n",
              "      <td id=\"T_93ce6_row11_col5\" class=\"data row11 col5\" >12.7236</td>\n",
              "      <td id=\"T_93ce6_row11_col6\" class=\"data row11 col6\" >510138005034420797440.0000</td>\n",
              "      <td id=\"T_93ce6_row11_col7\" class=\"data row11 col7\" >1.2310</td>\n",
              "    </tr>\n",
              "  </tbody>\n",
              "</table>\n"
            ]
          },
          "metadata": {}
        },
        {
          "output_type": "display_data",
          "data": {
            "text/plain": [
              "Processing:   0%|          | 0/81 [00:00<?, ?it/s]"
            ],
            "application/vnd.jupyter.widget-view+json": {
              "version_major": 2,
              "version_minor": 0,
              "model_id": "06db8079be2e44be9cefd6f279b5838f"
            }
          },
          "metadata": {
            "application/vnd.jupyter.widget-view+json": {
              "colab": {
                "custom_widget_manager": {
                  "url": "https://ssl.gstatic.com/colaboratory-static/widgets/colab-cdn-widget-manager/b3e629b1971e1542/manager.min.js"
                }
              }
            }
          }
        },
        {
          "output_type": "display_data",
          "data": {
            "text/plain": [
              "<IPython.core.display.HTML object>"
            ],
            "text/html": []
          },
          "metadata": {}
        },
        {
          "output_type": "error",
          "ename": "KeyboardInterrupt",
          "evalue": "ignored",
          "traceback": [
            "\u001b[0;31m---------------------------------------------------------------------------\u001b[0m",
            "\u001b[0;31mKeyboardInterrupt\u001b[0m                         Traceback (most recent call last)",
            "\u001b[0;32m<ipython-input-15-e904bc054f74>\u001b[0m in \u001b[0;36m<cell line: 1>\u001b[0;34m()\u001b[0m\n\u001b[0;32m----> 1\u001b[0;31m \u001b[0mbest_model\u001b[0m \u001b[0;34m=\u001b[0m \u001b[0mcompare_models\u001b[0m\u001b[0;34m(\u001b[0m\u001b[0;34m)\u001b[0m\u001b[0;34m\u001b[0m\u001b[0;34m\u001b[0m\u001b[0m\n\u001b[0m",
            "\u001b[0;32m/usr/local/lib/python3.10/dist-packages/pycaret/utils/generic.py\u001b[0m in \u001b[0;36mwrapper\u001b[0;34m(*args, **kwargs)\u001b[0m\n\u001b[1;32m    963\u001b[0m                 \u001b[0;32mif\u001b[0m \u001b[0mglobals_d\u001b[0m\u001b[0;34m[\u001b[0m\u001b[0mname\u001b[0m\u001b[0;34m]\u001b[0m \u001b[0;32mis\u001b[0m \u001b[0;32mNone\u001b[0m\u001b[0;34m:\u001b[0m\u001b[0;34m\u001b[0m\u001b[0;34m\u001b[0m\u001b[0m\n\u001b[1;32m    964\u001b[0m                     \u001b[0;32mraise\u001b[0m \u001b[0mValueError\u001b[0m\u001b[0;34m(\u001b[0m\u001b[0mmessage\u001b[0m\u001b[0;34m)\u001b[0m\u001b[0;34m\u001b[0m\u001b[0;34m\u001b[0m\u001b[0m\n\u001b[0;32m--> 965\u001b[0;31m             \u001b[0;32mreturn\u001b[0m \u001b[0mfunc\u001b[0m\u001b[0;34m(\u001b[0m\u001b[0;34m*\u001b[0m\u001b[0margs\u001b[0m\u001b[0;34m,\u001b[0m \u001b[0;34m**\u001b[0m\u001b[0mkwargs\u001b[0m\u001b[0;34m)\u001b[0m\u001b[0;34m\u001b[0m\u001b[0;34m\u001b[0m\u001b[0m\n\u001b[0m\u001b[1;32m    966\u001b[0m \u001b[0;34m\u001b[0m\u001b[0m\n\u001b[1;32m    967\u001b[0m         \u001b[0;32mreturn\u001b[0m \u001b[0mwrapper\u001b[0m\u001b[0;34m\u001b[0m\u001b[0;34m\u001b[0m\u001b[0m\n",
            "\u001b[0;32m/usr/local/lib/python3.10/dist-packages/pycaret/regression/functional.py\u001b[0m in \u001b[0;36mcompare_models\u001b[0;34m(include, exclude, fold, round, cross_validation, sort, n_select, budget_time, turbo, errors, fit_kwargs, groups, experiment_custom_tags, engine, verbose, parallel)\u001b[0m\n\u001b[1;32m    811\u001b[0m \u001b[0;34m\u001b[0m\u001b[0m\n\u001b[1;32m    812\u001b[0m     \"\"\"\n\u001b[0;32m--> 813\u001b[0;31m     return _CURRENT_EXPERIMENT.compare_models(\n\u001b[0m\u001b[1;32m    814\u001b[0m         \u001b[0minclude\u001b[0m\u001b[0;34m=\u001b[0m\u001b[0minclude\u001b[0m\u001b[0;34m,\u001b[0m\u001b[0;34m\u001b[0m\u001b[0;34m\u001b[0m\u001b[0m\n\u001b[1;32m    815\u001b[0m         \u001b[0mexclude\u001b[0m\u001b[0;34m=\u001b[0m\u001b[0mexclude\u001b[0m\u001b[0;34m,\u001b[0m\u001b[0;34m\u001b[0m\u001b[0;34m\u001b[0m\u001b[0m\n",
            "\u001b[0;32m/usr/local/lib/python3.10/dist-packages/pycaret/regression/oop.py\u001b[0m in \u001b[0;36mcompare_models\u001b[0;34m(self, include, exclude, fold, round, cross_validation, sort, n_select, budget_time, turbo, errors, fit_kwargs, groups, experiment_custom_tags, engine, verbose, parallel)\u001b[0m\n\u001b[1;32m   1126\u001b[0m \u001b[0;34m\u001b[0m\u001b[0m\n\u001b[1;32m   1127\u001b[0m         \u001b[0;32mtry\u001b[0m\u001b[0;34m:\u001b[0m\u001b[0;34m\u001b[0m\u001b[0;34m\u001b[0m\u001b[0m\n\u001b[0;32m-> 1128\u001b[0;31m             return_values = super().compare_models(\n\u001b[0m\u001b[1;32m   1129\u001b[0m                 \u001b[0minclude\u001b[0m\u001b[0;34m=\u001b[0m\u001b[0minclude\u001b[0m\u001b[0;34m,\u001b[0m\u001b[0;34m\u001b[0m\u001b[0;34m\u001b[0m\u001b[0m\n\u001b[1;32m   1130\u001b[0m                 \u001b[0mexclude\u001b[0m\u001b[0;34m=\u001b[0m\u001b[0mexclude\u001b[0m\u001b[0;34m,\u001b[0m\u001b[0;34m\u001b[0m\u001b[0;34m\u001b[0m\u001b[0m\n",
            "\u001b[0;32m/usr/local/lib/python3.10/dist-packages/pycaret/internal/pycaret_experiment/supervised_experiment.py\u001b[0m in \u001b[0;36mcompare_models\u001b[0;34m(self, include, exclude, fold, round, cross_validation, sort, n_select, budget_time, turbo, errors, fit_kwargs, groups, experiment_custom_tags, probability_threshold, verbose, parallel, caller_params)\u001b[0m\n\u001b[1;32m    792\u001b[0m             \u001b[0;32melse\u001b[0m\u001b[0;34m:\u001b[0m\u001b[0;34m\u001b[0m\u001b[0;34m\u001b[0m\u001b[0m\n\u001b[1;32m    793\u001b[0m                 \u001b[0;32mtry\u001b[0m\u001b[0;34m:\u001b[0m\u001b[0;34m\u001b[0m\u001b[0;34m\u001b[0m\u001b[0m\n\u001b[0;32m--> 794\u001b[0;31m                     \u001b[0mmodel\u001b[0m\u001b[0;34m,\u001b[0m \u001b[0mmodel_fit_time\u001b[0m \u001b[0;34m=\u001b[0m \u001b[0mself\u001b[0m\u001b[0;34m.\u001b[0m\u001b[0m_create_model\u001b[0m\u001b[0;34m(\u001b[0m\u001b[0;34m**\u001b[0m\u001b[0mcreate_model_args\u001b[0m\u001b[0;34m)\u001b[0m\u001b[0;34m\u001b[0m\u001b[0;34m\u001b[0m\u001b[0m\n\u001b[0m\u001b[1;32m    795\u001b[0m                     \u001b[0mmodel_results\u001b[0m \u001b[0;34m=\u001b[0m \u001b[0mself\u001b[0m\u001b[0;34m.\u001b[0m\u001b[0mpull\u001b[0m\u001b[0;34m(\u001b[0m\u001b[0mpop\u001b[0m\u001b[0;34m=\u001b[0m\u001b[0;32mTrue\u001b[0m\u001b[0;34m)\u001b[0m\u001b[0;34m\u001b[0m\u001b[0;34m\u001b[0m\u001b[0m\n\u001b[1;32m    796\u001b[0m                     assert (\n",
            "\u001b[0;32m/usr/local/lib/python3.10/dist-packages/pycaret/internal/pycaret_experiment/supervised_experiment.py\u001b[0m in \u001b[0;36m_create_model\u001b[0;34m(self, estimator, fold, round, cross_validation, predict, fit_kwargs, groups, refit, probability_threshold, experiment_custom_tags, verbose, system, add_to_model_list, X_train_data, y_train_data, metrics, display, model_only, return_train_score, **kwargs)\u001b[0m\n\u001b[1;32m   1519\u001b[0m             \u001b[0;32mreturn\u001b[0m \u001b[0mmodel\u001b[0m\u001b[0;34m\u001b[0m\u001b[0;34m\u001b[0m\u001b[0m\n\u001b[1;32m   1520\u001b[0m \u001b[0;34m\u001b[0m\u001b[0m\n\u001b[0;32m-> 1521\u001b[0;31m         model, model_fit_time, model_results, _ = self._create_model_with_cv(\n\u001b[0m\u001b[1;32m   1522\u001b[0m             \u001b[0mmodel\u001b[0m\u001b[0;34m,\u001b[0m\u001b[0;34m\u001b[0m\u001b[0;34m\u001b[0m\u001b[0m\n\u001b[1;32m   1523\u001b[0m             \u001b[0mdata_X\u001b[0m\u001b[0;34m,\u001b[0m\u001b[0;34m\u001b[0m\u001b[0;34m\u001b[0m\u001b[0m\n",
            "\u001b[0;32m/usr/local/lib/python3.10/dist-packages/pycaret/internal/pycaret_experiment/supervised_experiment.py\u001b[0m in \u001b[0;36m_create_model_with_cv\u001b[0;34m(self, model, data_X, data_y, fit_kwargs, round, cv, groups, metrics, refit, system, display, return_train_score)\u001b[0m\n\u001b[1;32m   1114\u001b[0m             \u001b[0mmodel_fit_start\u001b[0m \u001b[0;34m=\u001b[0m \u001b[0mtime\u001b[0m\u001b[0;34m.\u001b[0m\u001b[0mtime\u001b[0m\u001b[0;34m(\u001b[0m\u001b[0;34m)\u001b[0m\u001b[0;34m\u001b[0m\u001b[0;34m\u001b[0m\u001b[0m\n\u001b[1;32m   1115\u001b[0m             \u001b[0;32mwith\u001b[0m \u001b[0mredirect_output\u001b[0m\u001b[0;34m(\u001b[0m\u001b[0mself\u001b[0m\u001b[0;34m.\u001b[0m\u001b[0mlogger\u001b[0m\u001b[0;34m)\u001b[0m\u001b[0;34m:\u001b[0m\u001b[0;34m\u001b[0m\u001b[0;34m\u001b[0m\u001b[0m\n\u001b[0;32m-> 1116\u001b[0;31m                 scores = cross_validate(\n\u001b[0m\u001b[1;32m   1117\u001b[0m                     \u001b[0mpipeline_with_model\u001b[0m\u001b[0;34m,\u001b[0m\u001b[0;34m\u001b[0m\u001b[0;34m\u001b[0m\u001b[0m\n\u001b[1;32m   1118\u001b[0m                     \u001b[0mdata_X\u001b[0m\u001b[0;34m,\u001b[0m\u001b[0;34m\u001b[0m\u001b[0;34m\u001b[0m\u001b[0m\n",
            "\u001b[0;32m/usr/local/lib/python3.10/dist-packages/sklearn/model_selection/_validation.py\u001b[0m in \u001b[0;36mcross_validate\u001b[0;34m(estimator, X, y, groups, scoring, cv, n_jobs, verbose, fit_params, pre_dispatch, return_train_score, return_estimator, error_score)\u001b[0m\n\u001b[1;32m    264\u001b[0m     \u001b[0;31m# independent, and that it is pickle-able.\u001b[0m\u001b[0;34m\u001b[0m\u001b[0;34m\u001b[0m\u001b[0m\n\u001b[1;32m    265\u001b[0m     \u001b[0mparallel\u001b[0m \u001b[0;34m=\u001b[0m \u001b[0mParallel\u001b[0m\u001b[0;34m(\u001b[0m\u001b[0mn_jobs\u001b[0m\u001b[0;34m=\u001b[0m\u001b[0mn_jobs\u001b[0m\u001b[0;34m,\u001b[0m \u001b[0mverbose\u001b[0m\u001b[0;34m=\u001b[0m\u001b[0mverbose\u001b[0m\u001b[0;34m,\u001b[0m \u001b[0mpre_dispatch\u001b[0m\u001b[0;34m=\u001b[0m\u001b[0mpre_dispatch\u001b[0m\u001b[0;34m)\u001b[0m\u001b[0;34m\u001b[0m\u001b[0;34m\u001b[0m\u001b[0m\n\u001b[0;32m--> 266\u001b[0;31m     results = parallel(\n\u001b[0m\u001b[1;32m    267\u001b[0m         delayed(_fit_and_score)(\n\u001b[1;32m    268\u001b[0m             \u001b[0mclone\u001b[0m\u001b[0;34m(\u001b[0m\u001b[0mestimator\u001b[0m\u001b[0;34m)\u001b[0m\u001b[0;34m,\u001b[0m\u001b[0;34m\u001b[0m\u001b[0;34m\u001b[0m\u001b[0m\n",
            "\u001b[0;32m/usr/local/lib/python3.10/dist-packages/sklearn/utils/parallel.py\u001b[0m in \u001b[0;36m__call__\u001b[0;34m(self, iterable)\u001b[0m\n\u001b[1;32m     61\u001b[0m             \u001b[0;32mfor\u001b[0m \u001b[0mdelayed_func\u001b[0m\u001b[0;34m,\u001b[0m \u001b[0margs\u001b[0m\u001b[0;34m,\u001b[0m \u001b[0mkwargs\u001b[0m \u001b[0;32min\u001b[0m \u001b[0miterable\u001b[0m\u001b[0;34m\u001b[0m\u001b[0;34m\u001b[0m\u001b[0m\n\u001b[1;32m     62\u001b[0m         )\n\u001b[0;32m---> 63\u001b[0;31m         \u001b[0;32mreturn\u001b[0m \u001b[0msuper\u001b[0m\u001b[0;34m(\u001b[0m\u001b[0;34m)\u001b[0m\u001b[0;34m.\u001b[0m\u001b[0m__call__\u001b[0m\u001b[0;34m(\u001b[0m\u001b[0miterable_with_config\u001b[0m\u001b[0;34m)\u001b[0m\u001b[0;34m\u001b[0m\u001b[0;34m\u001b[0m\u001b[0m\n\u001b[0m\u001b[1;32m     64\u001b[0m \u001b[0;34m\u001b[0m\u001b[0m\n\u001b[1;32m     65\u001b[0m \u001b[0;34m\u001b[0m\u001b[0m\n",
            "\u001b[0;32m/usr/local/lib/python3.10/dist-packages/joblib/parallel.py\u001b[0m in \u001b[0;36m__call__\u001b[0;34m(self, iterable)\u001b[0m\n\u001b[1;32m   1950\u001b[0m         \u001b[0mnext\u001b[0m\u001b[0;34m(\u001b[0m\u001b[0moutput\u001b[0m\u001b[0;34m)\u001b[0m\u001b[0;34m\u001b[0m\u001b[0;34m\u001b[0m\u001b[0m\n\u001b[1;32m   1951\u001b[0m \u001b[0;34m\u001b[0m\u001b[0m\n\u001b[0;32m-> 1952\u001b[0;31m         \u001b[0;32mreturn\u001b[0m \u001b[0moutput\u001b[0m \u001b[0;32mif\u001b[0m \u001b[0mself\u001b[0m\u001b[0;34m.\u001b[0m\u001b[0mreturn_generator\u001b[0m \u001b[0;32melse\u001b[0m \u001b[0mlist\u001b[0m\u001b[0;34m(\u001b[0m\u001b[0moutput\u001b[0m\u001b[0;34m)\u001b[0m\u001b[0;34m\u001b[0m\u001b[0;34m\u001b[0m\u001b[0m\n\u001b[0m\u001b[1;32m   1953\u001b[0m \u001b[0;34m\u001b[0m\u001b[0m\n\u001b[1;32m   1954\u001b[0m     \u001b[0;32mdef\u001b[0m \u001b[0m__repr__\u001b[0m\u001b[0;34m(\u001b[0m\u001b[0mself\u001b[0m\u001b[0;34m)\u001b[0m\u001b[0;34m:\u001b[0m\u001b[0;34m\u001b[0m\u001b[0;34m\u001b[0m\u001b[0m\n",
            "\u001b[0;32m/usr/local/lib/python3.10/dist-packages/joblib/parallel.py\u001b[0m in \u001b[0;36m_get_outputs\u001b[0;34m(self, iterator, pre_dispatch)\u001b[0m\n\u001b[1;32m   1593\u001b[0m \u001b[0;34m\u001b[0m\u001b[0m\n\u001b[1;32m   1594\u001b[0m             \u001b[0;32mwith\u001b[0m \u001b[0mself\u001b[0m\u001b[0;34m.\u001b[0m\u001b[0m_backend\u001b[0m\u001b[0;34m.\u001b[0m\u001b[0mretrieval_context\u001b[0m\u001b[0;34m(\u001b[0m\u001b[0;34m)\u001b[0m\u001b[0;34m:\u001b[0m\u001b[0;34m\u001b[0m\u001b[0;34m\u001b[0m\u001b[0m\n\u001b[0;32m-> 1595\u001b[0;31m                 \u001b[0;32myield\u001b[0m \u001b[0;32mfrom\u001b[0m \u001b[0mself\u001b[0m\u001b[0;34m.\u001b[0m\u001b[0m_retrieve\u001b[0m\u001b[0;34m(\u001b[0m\u001b[0;34m)\u001b[0m\u001b[0;34m\u001b[0m\u001b[0;34m\u001b[0m\u001b[0m\n\u001b[0m\u001b[1;32m   1596\u001b[0m \u001b[0;34m\u001b[0m\u001b[0m\n\u001b[1;32m   1597\u001b[0m         \u001b[0;32mexcept\u001b[0m \u001b[0mGeneratorExit\u001b[0m\u001b[0;34m:\u001b[0m\u001b[0;34m\u001b[0m\u001b[0;34m\u001b[0m\u001b[0m\n",
            "\u001b[0;32m/usr/local/lib/python3.10/dist-packages/joblib/parallel.py\u001b[0m in \u001b[0;36m_retrieve\u001b[0;34m(self)\u001b[0m\n\u001b[1;32m   1705\u001b[0m                 (self._jobs[0].get_status(\n\u001b[1;32m   1706\u001b[0m                     timeout=self.timeout) == TASK_PENDING)):\n\u001b[0;32m-> 1707\u001b[0;31m                 \u001b[0mtime\u001b[0m\u001b[0;34m.\u001b[0m\u001b[0msleep\u001b[0m\u001b[0;34m(\u001b[0m\u001b[0;36m0.01\u001b[0m\u001b[0;34m)\u001b[0m\u001b[0;34m\u001b[0m\u001b[0;34m\u001b[0m\u001b[0m\n\u001b[0m\u001b[1;32m   1708\u001b[0m                 \u001b[0;32mcontinue\u001b[0m\u001b[0;34m\u001b[0m\u001b[0;34m\u001b[0m\u001b[0m\n\u001b[1;32m   1709\u001b[0m \u001b[0;34m\u001b[0m\u001b[0m\n",
            "\u001b[0;31mKeyboardInterrupt\u001b[0m: "
          ]
        }
      ]
    },
    {
      "cell_type": "code",
      "source": [
        "lr = create_model('lr')\n",
        "tuned_lr = tune_model(lr)\n",
        "evaluate_model(tuned_lr)\n",
        "predictions = predict_model(tuned_lr, df=new_data)"
      ],
      "metadata": {
        "id": "8kUL31GL1nzi"
      },
      "execution_count": null,
      "outputs": []
    },
    {
      "cell_type": "code",
      "source": [
        "final_model = finalize_model(tuned_lr)"
      ],
      "metadata": {
        "id": "RTN0MQWU1vjb"
      },
      "execution_count": null,
      "outputs": []
    },
    {
      "cell_type": "code",
      "source": [
        "plot_model(tuned_lr, plot='residuals')"
      ],
      "metadata": {
        "id": "pknxhJcq18Hw"
      },
      "execution_count": null,
      "outputs": []
    },
    {
      "cell_type": "code",
      "source": [
        "interpret_model(tuned_lr)"
      ],
      "metadata": {
        "id": "ksty9e4G1-g_"
      },
      "execution_count": null,
      "outputs": []
    },
    {
      "cell_type": "code",
      "source": [
        "plot_model(tuned_lr, plot='feature')"
      ],
      "metadata": {
        "id": "VDFC8p9M2BG8"
      },
      "execution_count": null,
      "outputs": []
    },
    {
      "cell_type": "code",
      "source": [
        "plot_model(tuned_lr, plot='learning')"
      ],
      "metadata": {
        "id": "CCUH_tD62Bta"
      },
      "execution_count": null,
      "outputs": []
    },
    {
      "cell_type": "code",
      "source": [
        "import numpy as np\n",
        "\n",
        "from sklearn.preprocessing import MinMaxScaler\n",
        "from sklearn.metrics import mean_squared_error\n",
        "from tensorflow.keras.models import Sequential\n",
        "from tensorflow.keras.layers import LSTM, Dense\n",
        "import matplotlib.pyplot as plt\n",
        "\n",
        "# Load and preprocess cryptocurrency market data\n",
        "df = pd.read_csv('/content/drive/MyDrive/crypto-markets.csv')\n",
        "\n",
        "# Extract the 'close' prices\n",
        "prices = df['close'].values.reshape(-1, 1)\n",
        "\n",
        "# Normalize data to the range [0, 1]\n",
        "scaler = MinMaxScaler()\n",
        "prices_normalized = scaler.fit_transform(prices)\n",
        "\n",
        "# Create sequences for training\n",
        "sequence_length = 10  # Number of historical prices used for prediction\n",
        "X = []\n",
        "y = []\n",
        "for i in range(len(prices_normalized) - sequence_length):\n",
        "    X.append(prices_normalized[i:i+sequence_length])\n",
        "    y.append(prices_normalized[i+sequence_length])\n",
        "X = np.array(X)\n",
        "y = np.array(y)\n",
        "\n",
        "# Split data into training and testing sets\n",
        "split_ratio = 0.8\n",
        "split_index = int(len(X) * split_ratio)\n",
        "X_train, X_test = X[:split_index], X[split_index:]\n",
        "y_train, y_test = y[:split_index], y[split_index:]\n",
        "\n",
        "# Build and train the LSTM model\n",
        "model = Sequential()\n",
        "model.add(LSTM(units=50, return_sequences=True, input_shape=(X_train.shape[1], 1)))\n",
        "model.add(LSTM(units=50))\n",
        "model.add(Dense(units=1))\n",
        "model.compile(optimizer='adam', loss='mean_squared_error')\n",
        "model.fit(X_train, y_train, epochs=50, batch_size=32)\n",
        "\n",
        "# Make predictions\n",
        "predicted_prices_normalized = model.predict(X_test)\n",
        "predicted_prices = scaler.inverse_transform(predicted_prices_normalized)\n",
        "\n",
        "# Calculate mean squared error\n",
        "mse = mean_squared_error(y_test, predicted_prices_normalized)\n",
        "print(f'Mean Squared Error: {mse}')\n",
        "\n",
        "# Plot actual vs. predicted prices\n",
        "plt.figure(figsize=(12, 6))\n",
        "plt.plot(scaler.inverse_transform(y_test), label='Actual Prices')\n",
        "plt.plot(predicted_prices, label='Predicted Prices')\n",
        "plt.legend()\n",
        "plt.title('Cryptocurrency Price Prediction')\n",
        "plt.xlabel('Time')\n",
        "plt.ylabel('Price')\n",
        "plt.show()\n",
        "\n",
        "\n",
        "\n",
        "\n",
        "\n"
      ],
      "metadata": {
        "colab": {
          "base_uri": "https://localhost:8080/",
          "height": 364
        },
        "id": "xY-704082cIM",
        "outputId": "aa70026b-45f5-4db4-ac33-506c0c61d69c"
      },
      "execution_count": null,
      "outputs": [
        {
          "output_type": "display_data",
          "data": {
            "text/plain": [
              "<IPython.core.display.HTML object>"
            ],
            "text/html": []
          },
          "metadata": {}
        },
        {
          "output_type": "stream",
          "name": "stdout",
          "text": [
            "Epoch 1/50\n",
            "23558/23558 [==============================] - 411s 17ms/step - loss: 3.2704e-08\n",
            "Epoch 2/50\n",
            "23558/23558 [==============================] - 402s 17ms/step - loss: 7.2935e-09\n",
            "Epoch 3/50\n",
            "23558/23558 [==============================] - 397s 17ms/step - loss: 5.8464e-09\n",
            "Epoch 4/50\n",
            "23558/23558 [==============================] - 398s 17ms/step - loss: 5.1004e-09\n",
            "Epoch 5/50\n",
            "23558/23558 [==============================] - 393s 17ms/step - loss: 4.8467e-09\n",
            "Epoch 6/50\n",
            "23558/23558 [==============================] - 393s 17ms/step - loss: 4.1578e-09\n",
            "Epoch 7/50\n",
            "23558/23558 [==============================] - 386s 16ms/step - loss: 4.1166e-09\n",
            "Epoch 8/50\n",
            "23558/23558 [==============================] - 398s 17ms/step - loss: 3.9673e-09\n",
            "Epoch 9/50\n",
            "23558/23558 [==============================] - 387s 16ms/step - loss: 3.7800e-09\n",
            "Epoch 10/50\n",
            "10313/23558 [============>.................] - ETA: 3:40 - loss: 4.1374e-09"
          ]
        }
      ]
    }
  ],
  "metadata": {
    "colab": {
      "provenance": [],
      "mount_file_id": "1xMCWnGMJSA-4jVwamEi2LrxyC74ocKfo",
      "authorship_tag": "ABX9TyOetpcg+OMCRb9MBPSqwi6Z",
      "include_colab_link": true
    },
    "kernelspec": {
      "display_name": "Python 3",
      "name": "python3"
    },
    "language_info": {
      "name": "python"
    },
    "widgets": {
      "application/vnd.jupyter.widget-state+json": {
        "06db8079be2e44be9cefd6f279b5838f": {
          "model_module": "@jupyter-widgets/controls",
          "model_name": "HBoxModel",
          "model_module_version": "1.5.0",
          "state": {
            "_dom_classes": [],
            "_model_module": "@jupyter-widgets/controls",
            "_model_module_version": "1.5.0",
            "_model_name": "HBoxModel",
            "_view_count": null,
            "_view_module": "@jupyter-widgets/controls",
            "_view_module_version": "1.5.0",
            "_view_name": "HBoxView",
            "box_style": "",
            "children": [
              "IPY_MODEL_846b5b3ca17f43b4bf2cb5b2bcbca51c",
              "IPY_MODEL_bcc11a13623242e18bebc93fb6d06931",
              "IPY_MODEL_7fa691952dcf4608961345c0381ed63f"
            ],
            "layout": "IPY_MODEL_4264a034d6ac44d8b6b12bd69df0d48f"
          }
        },
        "846b5b3ca17f43b4bf2cb5b2bcbca51c": {
          "model_module": "@jupyter-widgets/controls",
          "model_name": "HTMLModel",
          "model_module_version": "1.5.0",
          "state": {
            "_dom_classes": [],
            "_model_module": "@jupyter-widgets/controls",
            "_model_module_version": "1.5.0",
            "_model_name": "HTMLModel",
            "_view_count": null,
            "_view_module": "@jupyter-widgets/controls",
            "_view_module_version": "1.5.0",
            "_view_name": "HTMLView",
            "description": "",
            "description_tooltip": null,
            "layout": "IPY_MODEL_975d61bfbf0c4b35ae47f050b8d95269",
            "placeholder": "​",
            "style": "IPY_MODEL_ee5b1be2d1e2429d9f75ed38130d35f2",
            "value": "Processing:  63%"
          }
        },
        "bcc11a13623242e18bebc93fb6d06931": {
          "model_module": "@jupyter-widgets/controls",
          "model_name": "FloatProgressModel",
          "model_module_version": "1.5.0",
          "state": {
            "_dom_classes": [],
            "_model_module": "@jupyter-widgets/controls",
            "_model_module_version": "1.5.0",
            "_model_name": "FloatProgressModel",
            "_view_count": null,
            "_view_module": "@jupyter-widgets/controls",
            "_view_module_version": "1.5.0",
            "_view_name": "ProgressView",
            "bar_style": "",
            "description": "",
            "description_tooltip": null,
            "layout": "IPY_MODEL_268cf21b83ff4939a8181884d6fb2ce1",
            "max": 81,
            "min": 0,
            "orientation": "horizontal",
            "style": "IPY_MODEL_eaef8294bcdd460c9d4d785e3455f6d1",
            "value": 51
          }
        },
        "7fa691952dcf4608961345c0381ed63f": {
          "model_module": "@jupyter-widgets/controls",
          "model_name": "HTMLModel",
          "model_module_version": "1.5.0",
          "state": {
            "_dom_classes": [],
            "_model_module": "@jupyter-widgets/controls",
            "_model_module_version": "1.5.0",
            "_model_name": "HTMLModel",
            "_view_count": null,
            "_view_module": "@jupyter-widgets/controls",
            "_view_module_version": "1.5.0",
            "_view_name": "HTMLView",
            "description": "",
            "description_tooltip": null,
            "layout": "IPY_MODEL_c173f01486b5435f8eec71f1a732789f",
            "placeholder": "​",
            "style": "IPY_MODEL_2cfaee6bb8044937a502e121960f1b89",
            "value": " 51/81 [03:33&lt;03:01,  6.04s/it]"
          }
        },
        "4264a034d6ac44d8b6b12bd69df0d48f": {
          "model_module": "@jupyter-widgets/base",
          "model_name": "LayoutModel",
          "model_module_version": "1.2.0",
          "state": {
            "_model_module": "@jupyter-widgets/base",
            "_model_module_version": "1.2.0",
            "_model_name": "LayoutModel",
            "_view_count": null,
            "_view_module": "@jupyter-widgets/base",
            "_view_module_version": "1.2.0",
            "_view_name": "LayoutView",
            "align_content": null,
            "align_items": null,
            "align_self": null,
            "border": null,
            "bottom": null,
            "display": null,
            "flex": null,
            "flex_flow": null,
            "grid_area": null,
            "grid_auto_columns": null,
            "grid_auto_flow": null,
            "grid_auto_rows": null,
            "grid_column": null,
            "grid_gap": null,
            "grid_row": null,
            "grid_template_areas": null,
            "grid_template_columns": null,
            "grid_template_rows": null,
            "height": null,
            "justify_content": null,
            "justify_items": null,
            "left": null,
            "margin": null,
            "max_height": null,
            "max_width": null,
            "min_height": null,
            "min_width": null,
            "object_fit": null,
            "object_position": null,
            "order": null,
            "overflow": null,
            "overflow_x": null,
            "overflow_y": null,
            "padding": null,
            "right": null,
            "top": null,
            "visibility": null,
            "width": null
          }
        },
        "975d61bfbf0c4b35ae47f050b8d95269": {
          "model_module": "@jupyter-widgets/base",
          "model_name": "LayoutModel",
          "model_module_version": "1.2.0",
          "state": {
            "_model_module": "@jupyter-widgets/base",
            "_model_module_version": "1.2.0",
            "_model_name": "LayoutModel",
            "_view_count": null,
            "_view_module": "@jupyter-widgets/base",
            "_view_module_version": "1.2.0",
            "_view_name": "LayoutView",
            "align_content": null,
            "align_items": null,
            "align_self": null,
            "border": null,
            "bottom": null,
            "display": null,
            "flex": null,
            "flex_flow": null,
            "grid_area": null,
            "grid_auto_columns": null,
            "grid_auto_flow": null,
            "grid_auto_rows": null,
            "grid_column": null,
            "grid_gap": null,
            "grid_row": null,
            "grid_template_areas": null,
            "grid_template_columns": null,
            "grid_template_rows": null,
            "height": null,
            "justify_content": null,
            "justify_items": null,
            "left": null,
            "margin": null,
            "max_height": null,
            "max_width": null,
            "min_height": null,
            "min_width": null,
            "object_fit": null,
            "object_position": null,
            "order": null,
            "overflow": null,
            "overflow_x": null,
            "overflow_y": null,
            "padding": null,
            "right": null,
            "top": null,
            "visibility": null,
            "width": null
          }
        },
        "ee5b1be2d1e2429d9f75ed38130d35f2": {
          "model_module": "@jupyter-widgets/controls",
          "model_name": "DescriptionStyleModel",
          "model_module_version": "1.5.0",
          "state": {
            "_model_module": "@jupyter-widgets/controls",
            "_model_module_version": "1.5.0",
            "_model_name": "DescriptionStyleModel",
            "_view_count": null,
            "_view_module": "@jupyter-widgets/base",
            "_view_module_version": "1.2.0",
            "_view_name": "StyleView",
            "description_width": ""
          }
        },
        "268cf21b83ff4939a8181884d6fb2ce1": {
          "model_module": "@jupyter-widgets/base",
          "model_name": "LayoutModel",
          "model_module_version": "1.2.0",
          "state": {
            "_model_module": "@jupyter-widgets/base",
            "_model_module_version": "1.2.0",
            "_model_name": "LayoutModel",
            "_view_count": null,
            "_view_module": "@jupyter-widgets/base",
            "_view_module_version": "1.2.0",
            "_view_name": "LayoutView",
            "align_content": null,
            "align_items": null,
            "align_self": null,
            "border": null,
            "bottom": null,
            "display": null,
            "flex": null,
            "flex_flow": null,
            "grid_area": null,
            "grid_auto_columns": null,
            "grid_auto_flow": null,
            "grid_auto_rows": null,
            "grid_column": null,
            "grid_gap": null,
            "grid_row": null,
            "grid_template_areas": null,
            "grid_template_columns": null,
            "grid_template_rows": null,
            "height": null,
            "justify_content": null,
            "justify_items": null,
            "left": null,
            "margin": null,
            "max_height": null,
            "max_width": null,
            "min_height": null,
            "min_width": null,
            "object_fit": null,
            "object_position": null,
            "order": null,
            "overflow": null,
            "overflow_x": null,
            "overflow_y": null,
            "padding": null,
            "right": null,
            "top": null,
            "visibility": null,
            "width": null
          }
        },
        "eaef8294bcdd460c9d4d785e3455f6d1": {
          "model_module": "@jupyter-widgets/controls",
          "model_name": "ProgressStyleModel",
          "model_module_version": "1.5.0",
          "state": {
            "_model_module": "@jupyter-widgets/controls",
            "_model_module_version": "1.5.0",
            "_model_name": "ProgressStyleModel",
            "_view_count": null,
            "_view_module": "@jupyter-widgets/base",
            "_view_module_version": "1.2.0",
            "_view_name": "StyleView",
            "bar_color": null,
            "description_width": ""
          }
        },
        "c173f01486b5435f8eec71f1a732789f": {
          "model_module": "@jupyter-widgets/base",
          "model_name": "LayoutModel",
          "model_module_version": "1.2.0",
          "state": {
            "_model_module": "@jupyter-widgets/base",
            "_model_module_version": "1.2.0",
            "_model_name": "LayoutModel",
            "_view_count": null,
            "_view_module": "@jupyter-widgets/base",
            "_view_module_version": "1.2.0",
            "_view_name": "LayoutView",
            "align_content": null,
            "align_items": null,
            "align_self": null,
            "border": null,
            "bottom": null,
            "display": null,
            "flex": null,
            "flex_flow": null,
            "grid_area": null,
            "grid_auto_columns": null,
            "grid_auto_flow": null,
            "grid_auto_rows": null,
            "grid_column": null,
            "grid_gap": null,
            "grid_row": null,
            "grid_template_areas": null,
            "grid_template_columns": null,
            "grid_template_rows": null,
            "height": null,
            "justify_content": null,
            "justify_items": null,
            "left": null,
            "margin": null,
            "max_height": null,
            "max_width": null,
            "min_height": null,
            "min_width": null,
            "object_fit": null,
            "object_position": null,
            "order": null,
            "overflow": null,
            "overflow_x": null,
            "overflow_y": null,
            "padding": null,
            "right": null,
            "top": null,
            "visibility": null,
            "width": null
          }
        },
        "2cfaee6bb8044937a502e121960f1b89": {
          "model_module": "@jupyter-widgets/controls",
          "model_name": "DescriptionStyleModel",
          "model_module_version": "1.5.0",
          "state": {
            "_model_module": "@jupyter-widgets/controls",
            "_model_module_version": "1.5.0",
            "_model_name": "DescriptionStyleModel",
            "_view_count": null,
            "_view_module": "@jupyter-widgets/base",
            "_view_module_version": "1.2.0",
            "_view_name": "StyleView",
            "description_width": ""
          }
        }
      }
    }
  },
  "nbformat": 4,
  "nbformat_minor": 0
}